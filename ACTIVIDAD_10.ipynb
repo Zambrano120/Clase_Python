{
  "nbformat": 4,
  "nbformat_minor": 0,
  "metadata": {
    "colab": {
      "provenance": [],
      "authorship_tag": "ABX9TyM/4i3U7vHXSAi39Yv+J/66",
      "include_colab_link": true
    },
    "kernelspec": {
      "name": "python3",
      "display_name": "Python 3"
    },
    "language_info": {
      "name": "python"
    }
  },
  "cells": [
    {
      "cell_type": "markdown",
      "metadata": {
        "id": "view-in-github",
        "colab_type": "text"
      },
      "source": [
        "<a href=\"https://colab.research.google.com/github/Zambrano120/Clase_Python/blob/main/ACTIVIDAD_10.ipynb\" target=\"_parent\"><img src=\"https://colab.research.google.com/assets/colab-badge.svg\" alt=\"Open In Colab\"/></a>"
      ]
    },
    {
      "cell_type": "code",
      "source": [
        "!pip install pyyaml\n"
      ],
      "metadata": {
        "colab": {
          "base_uri": "https://localhost:8080/"
        },
        "id": "QJtqWDxqITyu",
        "outputId": "5127be58-6694-4d93-e5fc-ec12b4e3678f"
      },
      "execution_count": null,
      "outputs": [
        {
          "output_type": "stream",
          "name": "stdout",
          "text": [
            "Looking in indexes: https://pypi.org/simple, https://us-python.pkg.dev/colab-wheels/public/simple/\n",
            "Requirement already satisfied: pyyaml in /usr/local/lib/python3.9/dist-packages (6.0)\n"
          ]
        }
      ]
    },
    {
      "cell_type": "code",
      "source": [
        "import random\n",
        "import yaml\n",
        "import json\n",
        "import pandas as pd\n",
        "from time import sleep\n",
        "from pickle import TRUE\n",
        "from IPython.display import clear_output\n",
        "\n",
        "#Funcion valida_num que valida un numero dentro de un rango dado\n",
        "def Valida_mesta(ri,rf,mnge):\n",
        "    while True:\n",
        "      try:\n",
        "        x = int(input(mnge))\n",
        "        if x == 0:\n",
        "            print(\"\\nEl 0 es invalido, es para salir del programa.\")\n",
        "            sleep(3)\n",
        "            return x\n",
        "      except:\n",
        "        print(\"\\nEl dato solo sera aceptado si es un número.\")\n",
        "      else:\n",
        "        if x >= ri and x <= rf:\n",
        "          return x\n",
        "        else:                \n",
        "          print(\"\\nEl número NO es valido, vuelva a intentar.\\n\")\n",
        "          sleep(1)\n",
        "\n",
        "#------------------------------------------------------------------------------#"
      ],
      "metadata": {
        "id": "HLDegky1D2e5"
      },
      "execution_count": 44,
      "outputs": []
    },
    {
      "cell_type": "markdown",
      "source": [
        "REALIZA UN PROGRAMA QUE UTILICE UNA LISTA DE DICCIONARIOS \n",
        "\n",
        "\n",
        "\n",
        "MENU\n",
        "\n",
        "1.- Agregar (automatico)\n",
        "\n",
        "2.- Agregar (manual)\n",
        "\n",
        "3.- Imprimir lista\n",
        "\n",
        " a)\n",
        " \n",
        " b)\n",
        " \n",
        " c) \n",
        "\n",
        "4.- Buscar {ID} \n",
        "\n",
        "5.- Ordenar\n",
        "\n",
        "6.- Eliminar {ID}\n",
        "\n",
        "7.- Borrar Toda la lista {ID}\n",
        "\n",
        "0.- SALIR\n",
        "\n",
        "\n",
        "\n",
        "NOTA: Los datos del diccionario son los Datos básicos de un trabajador de una fabrica.\n",
        "\n",
        "\n",
        "NOTA 2: VALIDAR EL PROGRAMA 100% \n",
        "\n",
        "Preguntar siempre si esta seguro eliminar, No ordenar si ya esta Ordenado, decir si lista vacía, no existe o mostrar si estala búsqueda, No se permiten ID repetidos"
      ],
      "metadata": {
        "id": "Tlh8aOGxDHcR"
      }
    },
    {
      "cell_type": "code",
      "source": [
        "def gen_dicc():\n",
        "  #GENERO\n",
        "  Genero = [\"Masculino\", \"Femenino\"]\n",
        "  #NOMBRES\n",
        "  NombreH = [\"Ricardo\", \"Luis\", \"Mauricio\", \"Marcos\", \"Oscar\", \"Alfredo\", \"Francisco\", \"Ruben\", \"Kevin\", \"Manuel\"]\n",
        "  NombreM = [\"Harumi\", \"Samanta\", \"Sandra\", \"Laura\", \"Melissa\", \"Rosa\", \"Aurora\", \"Nayeli\", \"Gabriela\", \"Daniela\"]\n",
        "  #APELLIDOS\n",
        "  ApPat = [\"Zambrano\", \"Leon\", \"Martinez\", \"Cordova\", \"Espinoza\", \"Esperanza\", \"Cortez\", \"Sanchez\"]\n",
        "  ApMat = [\"Cital\", \"Leon\", \"Martinez\", \"Cordova\", \"Espinoza\", \"Esperanza\", \"Cortez\", \"Sanchez\"]\n",
        "  #PUESTOS EN LA EMPRESA\n",
        "  Puestos = [\"Ingeniero\", \"Contador\", \"Asistente\", \"Operador de linea\", \"Cocinero\"]\n",
        "  #DICCIONARIO\n",
        "  diccionario = {\"ID\": 1, \"Nombre\": 2, \"ApPat\":3, \"ApMat\": 4, \"Edad\": 5, \"Sexo\": 6, \"Puesto\": 7}\n",
        "  #RELLENAR DICCIONARIO POR METODO RANDOM\n",
        "  diccionario[\"ID\"] = random.randint(300000,400000)\n",
        "  diccionario[\"Sexo\"] = random.choice(Genero)\n",
        "  if diccionario[\"Sexo\"] == \"Masculino\":\n",
        "    diccionario[\"Nombre\"] = random.choice(NombreH)\n",
        "  else:\n",
        "    diccionario[\"Nombre\"] = random.choice(NombreM)\n",
        "  diccionario[\"ApPat\"] = random.choice(ApPat)\n",
        "  diccionario[\"ApMat\"] = random.choice(ApMat) \n",
        "  diccionario[\"Edad\"] = random.randint(18,45)\n",
        "  diccionario[\"Puesto\"] = random.choice(Puestos)\n",
        "\n",
        "  clear_output()\n",
        "  print(\"Se a generado un diccionario aleatoriamente\")\n",
        "  return diccionario"
      ],
      "metadata": {
        "id": "OLJhns6sEjeu"
      },
      "execution_count": 46,
      "outputs": []
    },
    {
      "cell_type": "code",
      "source": [
        "def dicc_manual():\n",
        "  diccionario = {\"ID\": 1, \"Nombre\": 2, \"ApPat\":3, \"ApMat\": 4, \"Edad\": 5, \"Sexo\": 6, \"Puesto\": 7}\n",
        "  diccionario[\"ID\"] = input(\"Ingrese el Numero de identificacion del empleado: \")\n",
        "  diccionario[\"Sexo\"] = input(\"Ingrese el Genero del empleado: \")\n",
        "  diccionario[\"Nombre\"] = input(\"Ingrese el Nombre del empleado: \")\n",
        "  diccionario[\"ApPat\"] = input(\"Ingrese el Apellido Paterno del empleado: \")\n",
        "  diccionario[\"ApMat\"] = input(\"Ingrese el Apellido Materno del empleado: \")\n",
        "  diccionario[\"Edad\"] = Valida_mesta(18,45,\"Ingrese la Edad del empleado: \")\n",
        "  diccionario[\"Puesto\"] = input(\"Ingrese el Puesto del empleado: \")\n",
        "  clear_output()\n",
        "  print(\"Se a generado un diccionario manualmente\")\n",
        "  return diccionario"
      ],
      "metadata": {
        "id": "xLGeCkRZ3Cqe"
      },
      "execution_count": 21,
      "outputs": []
    },
    {
      "cell_type": "code",
      "source": [
        "#IMPRIMIR CON YAML\n",
        "def imprime_dicc_yaml(diccionario):\n",
        "    clear_output()\n",
        "    print(\"Seleccionaste \"\"Imprimir diccionario con Yaml\")\n",
        "    print(\"#---------------------------------------------------#\")\n",
        "    print(yaml.dump(diccionario, sort_keys=False, default_flow_style=False))"
      ],
      "metadata": {
        "id": "lYFSa0yJGhxM"
      },
      "execution_count": 6,
      "outputs": []
    },
    {
      "cell_type": "code",
      "source": [
        "#IMPRIMIR CON JSON\n",
        "def imprime_dicc_json(diccionario):\n",
        "    clear_output()\n",
        "    print(\"Seleccionaste \"\"Imprimir diccionario con json\")\n",
        "    print(\"#---------------------------------------------------#\")\n",
        "    print(json.dumps(diccionario, sort_keys=False, indent=2))"
      ],
      "metadata": {
        "id": "vy567xWNLzk2"
      },
      "execution_count": 7,
      "outputs": []
    },
    {
      "cell_type": "code",
      "source": [
        "#IMPRIMIR CON KEY\n",
        "def imprime_dicc(diccionario):\n",
        "    clear_output()\n",
        "    print(\"Seleccionaste \"\"Imprimir diccionario por key\")\n",
        "    print(\"#---------------------------------------------------#\")\n",
        "    for key in diccionario:\n",
        "      print (key, \":\", diccionario[key])"
      ],
      "metadata": {
        "id": "02N_HmJXHRaW"
      },
      "execution_count": 22,
      "outputs": []
    },
    {
      "cell_type": "code",
      "source": [
        "#IMPRIMIR CON pd.DataFrame()\n",
        "def imprime_dicc_pd(lista):\n",
        "    clear_output()\n",
        "    print(\"Seleccionaste \"\"Imprimir diccionario con pd\")\n",
        "    print(\"#---------------------------------------------------#\")\n",
        "    Impresion = pd.DataFrame(lista) #Imprime el diccionario como lista pero le quita los valores\n",
        "    print(Impresion)"
      ],
      "metadata": {
        "id": "BjKdSWvhO9gG"
      },
      "execution_count": 42,
      "outputs": []
    },
    {
      "cell_type": "code",
      "execution_count": 47,
      "metadata": {
        "colab": {
          "base_uri": "https://localhost:8080/"
        },
        "id": "hNwzp1V2DEdX",
        "outputId": "0957821e-a420-4274-810c-8e0437f21ec8"
      },
      "outputs": [
        {
          "output_type": "stream",
          "name": "stdout",
          "text": [
            "Seleccionaste Imprimir diccionario con pd\n",
            "#---------------------------------------------------#\n",
            "        0\n",
            "0      ID\n",
            "1  Nombre\n",
            "2   ApPat\n",
            "3   ApMat\n",
            "4    Edad\n",
            "5    Sexo\n",
            "6  Puesto\n",
            "#---------------------------------------------------#\n",
            "\t\t\t  MENU\n",
            "1.- Agregar Diccionario (aleatoriamente)\n",
            "2.- Agregar Diccionario (manualmente)\n",
            "3.- Imprimir diccionario\n",
            "0.- Salir\n",
            "#---------------------------------------------------#\n",
            "Que opcion eliges? > 0\n",
            "\n",
            "El 0 es invalido, es para salir del programa.\n",
            " SALE VALE! \n"
          ]
        }
      ],
      "source": [
        "#MENU DE DATOS BASICOS PARA UN EMPLEADO\n",
        "lista = []\n",
        "while True:\n",
        "  print(\"#---------------------------------------------------#\")\n",
        "  print(\"\\t\\t\\t  MENU\")\n",
        "  print(\"1.- Agregar Diccionario (aleatoriamente)\")\n",
        "  print(\"2.- Agregar Diccionario (manualmente)\")\n",
        "  print(\"3.- Imprimir diccionario\")\n",
        "  print(\"0.- Salir\")\n",
        "  print(\"#---------------------------------------------------#\")\n",
        "  op = Valida_mesta(1,6,\"Que opcion eliges? > \")\n",
        "  if op == 1:\n",
        "    diccionario = dict(gen_dicc())\n",
        "  elif op == 2:\n",
        "    diccionario = dict(dicc_manual())\n",
        "  elif op == 3:\n",
        "    x = random.randint(1,4)\n",
        "    if x == 1:\n",
        "      imprime_dicc_yaml(diccionario)\n",
        "    elif x == 2:\n",
        "      imprime_dicc_json(diccionario)\n",
        "    elif x == 3:\n",
        "      lista = list(diccionario) #Transformo el diccionario a lista para poderla imprimir con pandas\n",
        "      imprime_dicc_pd(lista)\n",
        "    elif x == 4:\n",
        "      imprime_dicc(diccionario)\n",
        "  elif op == 5:\n",
        "    dicc_sort = dict(sorted(diccionario.items))\n",
        "  elif op == 6:\n",
        "    y = input(\"Que dato deseas borrar?: \")\n",
        "    valor = diccionario.pop(y)\n",
        "  elif op == 7:\n",
        "    diccionario.clear()\n",
        "  elif op == 0:\n",
        "    print(\" SALE VALE! \")\n",
        "    break"
      ]
    }
  ]
}