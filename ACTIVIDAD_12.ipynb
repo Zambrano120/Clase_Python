{
  "nbformat": 4,
  "nbformat_minor": 0,
  "metadata": {
    "colab": {
      "provenance": [],
      "authorship_tag": "ABX9TyPd3bQSQ5bFMCOFEdQt+8IC",
      "include_colab_link": true
    },
    "kernelspec": {
      "name": "python3",
      "display_name": "Python 3"
    },
    "language_info": {
      "name": "python"
    }
  },
  "cells": [
    {
      "cell_type": "markdown",
      "metadata": {
        "id": "view-in-github",
        "colab_type": "text"
      },
      "source": [
        "<a href=\"https://colab.research.google.com/github/Zambrano120/Clase_Python/blob/main/ACTIVIDAD_12.ipynb\" target=\"_parent\"><img src=\"https://colab.research.google.com/assets/colab-badge.svg\" alt=\"Open In Colab\"/></a>"
      ]
    },
    {
      "cell_type": "markdown",
      "source": [
        "MENU\n",
        "\n",
        "1.- Agregar (automatico 10)\n",
        "\n",
        "2.- Eliminar {ID}\n",
        "\n",
        "3.- Imprimir lista ( tabla) \n",
        "\n",
        "4.- Buscar {ID} \n",
        "\n",
        "5.- Buscar {appat} todas las coincidencias\n",
        "\n",
        "6.- Ordenar {ID}\n",
        "\n",
        "7.- Generar archivo {ID} (preguntar nombre del archivo)\n",
        "\n",
        "   a) excel\n",
        "\n",
        " b) txt\n",
        "\n",
        " c) cvs\n",
        "\n",
        " d) MarkDown\n",
        "\n",
        "8.- Cargar archivo {ID}\n",
        "\n",
        "9.- Imprimir archivo {ID}\n",
        "\n",
        "10.- Borrar Toda la lista {ID}\n",
        "\n",
        "0.- SALIR\n",
        "\n",
        "\n",
        "\n",
        "NOTA: Los datos del diccionario son los Datos básicos de un trabajador de una fabrica. "
      ],
      "metadata": {
        "id": "jsKQs5jNJ4a-"
      }
    },
    {
      "cell_type": "code",
      "source": [],
      "metadata": {
        "id": "4W-i25WxS_tN"
      },
      "execution_count": null,
      "outputs": []
    },
    {
      "cell_type": "code",
      "execution_count": null,
      "metadata": {
        "id": "SL3gNk6aJ3OP"
      },
      "outputs": [],
      "source": [
        "import sys\n",
        "import os\n",
        "import random\n",
        "import yaml\n",
        "import json\n",
        "import pandas as pd\n",
        "from time import sleep\n",
        "from pickle import TRUE\n",
        "from IPython.display import clear_output\n",
        "\n",
        "#Funcion valida_num que valida un numero dentro de un rango dado\n",
        "def Valida_mesta(ri,rf,mnge):\n",
        "    while True:\n",
        "      try:\n",
        "        x = int(input(mnge))\n",
        "        if x == 0:\n",
        "            print(\"\\nEl 0 es invalido, es para salir del programa.\")\n",
        "            sleep(3)\n",
        "            return x\n",
        "      except:\n",
        "        print(\"\\nEl dato solo sera aceptado si es un número.\")\n",
        "      else:\n",
        "        if x >= ri and x <= rf:\n",
        "          return x\n",
        "        else:                \n",
        "          print(\"\\nEl número NO es valido, vuelva a intentar.\\n\")\n",
        "          sleep(1)\n",
        "\n",
        "#------------------------------------------------------------------------------#"
      ]
    },
    {
      "cell_type": "code",
      "source": [
        "def gen_dicc():\n",
        "  #GENERO\n",
        "  Genero = [\"Masculino\", \"Femenino\"]\n",
        "  #NOMBRES\n",
        "  NombreH = [\"Ricardo\", \"Luis\", \"Mauricio\", \"Marcos\", \"Oscar\", \"Alfredo\", \"Francisco\", \"Ruben\", \"Kevin\", \"Manuel\"]\n",
        "  NombreM = [\"Harumi\", \"Samanta\", \"Sandra\", \"Laura\", \"Melissa\", \"Rosa\", \"Aurora\", \"Nayeli\", \"Gabriela\", \"Daniela\"]\n",
        "  #APELLIDOS\n",
        "  ApPat = [\"Zambrano\", \"Leon\", \"Martinez\", \"Cordova\", \"Espinoza\", \"Esperanza\", \"Cortez\", \"Sanchez\"]\n",
        "  ApMat = [\"Cital\", \"Leon\", \"Martinez\", \"Cordova\", \"Espinoza\", \"Esperanza\", \"Cortez\", \"Sanchez\"]\n",
        "  #PUESTOS EN LA EMPRESA\n",
        "  Puestos = [\"Ingeniero\", \"Contador\", \"Asistente\", \"Operador de linea\", \"Cocinero\"]\n",
        "  #DICCIONARIO\n",
        "  diccionario = {\"ID\": 1, \"Nombre\": 2, \"ApPat\":3, \"ApMat\": 4, \"Edad\": 5, \"Sexo\": 6, \"Puesto\": 7}\n",
        "  lista = []\n",
        "  #RELLENAR DICCIONARIO POR METODO RANDOM\n",
        "  for i in range(10):\n",
        "    diccionario[\"ID\"] = random.randint(300000,400000)\n",
        "    diccionario[\"Sexo\"] = random.choice(Genero)\n",
        "    if diccionario[\"Sexo\"] == \"Masculino\":\n",
        "      diccionario[\"Nombre\"] = random.choice(NombreH)\n",
        "    else:\n",
        "      diccionario[\"Nombre\"] = random.choice(NombreM)\n",
        "    diccionario[\"ApPat\"] = random.choice(ApPat)\n",
        "    diccionario[\"ApMat\"] = random.choice(ApMat) \n",
        "    diccionario[\"Edad\"] = random.randint(18,45)\n",
        "    diccionario[\"Puesto\"] = random.choice(Puestos)\n",
        "    lista.append(diccionario)\n",
        "  print(\"Se a generado un diccionario aleatoriamente\")\n",
        "  return lista"
      ],
      "metadata": {
        "id": "Dlb7eOz-KgrJ"
      },
      "execution_count": null,
      "outputs": []
    },
    {
      "cell_type": "code",
      "source": [
        "#IMPRIMIR CON pd.DataFrame()\n",
        "def imprime_dicc_pd(lista):\n",
        "    clear_output()\n",
        "    print(\"Seleccionaste \"\"Imprimir diccionario con pd\")\n",
        "    print(\"#---------------------------------------------------#\")\n",
        "    Impresion = pd.DataFrame(lista) \n",
        "    print(Impresion)\n",
        "    print(type(lista))"
      ],
      "metadata": {
        "id": "EpWINMGvK1JH"
      },
      "execution_count": null,
      "outputs": []
    },
    {
      "cell_type": "code",
      "source": [
        "  #MENU DE DATOS BASICOS PARA UN EMPLEADO\n",
        "while True:\n",
        "    print(\"#---------------------------------------------------#\")\n",
        "    print(\"\\t\\t\\t  MENU\")\n",
        "    print(\"1.- Agregar Diccionario (10 automaticos)\")\n",
        "    print(\"2.- Eliminar\")\n",
        "    print(\"3.- Imprimir diccionario\")\n",
        "    print(\"4.- Busca (ID)\")\n",
        "    print(\"5.- Buscar (ApPat c/coincidencias)\")\n",
        "    print(\"6.- Ordenar\")\n",
        "    print(\"7.- Generar archivo {ID}\")\n",
        "    print(\"0.- Salir\")\n",
        "    print(\"#---------------------------------------------------#\")\n",
        "    op = Valida_mesta(1,6,\"Que opcion eliges? > \")\n",
        "    if op == 1:\n",
        "      lista = gen_dicc()\n",
        "      ord = 0\n",
        "    elif op == 2:\n",
        "      y = input(\"Que indice deseas borrar?: \")\n",
        "      print(f\"Dato borrado: {lista.pop(y)}\")\n",
        "    elif op == 3:\n",
        "      imprime_dicc_pd(lista)\n",
        "    elif op == 4:\n",
        "      print(\"Busca (ID)\")\n",
        "    elif op == 5:\n",
        "      print(\"Buscar (ApPat c/coincidencias)\")\n",
        "    elif op == 6:\n",
        "      if ord == 0:\n",
        "        ord = Valida_mesta(1, 2, \"Quieres ordenar la lista?: [1]SI [2]NO\")\n",
        "        if ord == 1:\n",
        "          print(\"FUNCION PARA ORDENAR\")\n",
        "        else:\n",
        "          print(\"OK\")\n",
        "      else: \n",
        "        print(\"La lista ya esta ordenada.\")\n",
        "    elif op == 7:\n",
        "      c = input(\"Como quieres que se llame el archivo?: \")\n",
        "      print(\"Que tiopo de archivo?\\n1.-Excel\\n2.-Txt\\n3.-Csv\\n4.-MarkDown\")\n",
        "    elif op == 0:\n",
        "      print(\"\\n SALE VALE! \")\n",
        "      sleep(1)\n",
        "      clear_output()\n",
        "      break"
      ],
      "metadata": {
        "id": "c82dxVQwLbwT"
      },
      "execution_count": null,
      "outputs": []
    }
  ]
}