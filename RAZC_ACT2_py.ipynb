{
  "nbformat": 4,
  "nbformat_minor": 0,
  "metadata": {
    "colab": {
      "provenance": [],
      "authorship_tag": "ABX9TyMPt6CNKJe5hSVfVJycAmV4",
      "include_colab_link": true
    },
    "kernelspec": {
      "name": "python3",
      "display_name": "Python 3"
    },
    "language_info": {
      "name": "python"
    }
  },
  "cells": [
    {
      "cell_type": "markdown",
      "metadata": {
        "id": "view-in-github",
        "colab_type": "text"
      },
      "source": [
        "<a href=\"https://colab.research.google.com/github/Zambrano120/Clase_Python/blob/main/RAZC_ACT2_py.ipynb\" target=\"_parent\"><img src=\"https://colab.research.google.com/assets/colab-badge.svg\" alt=\"Open In Colab\"/></a>"
      ]
    },
    {
      "cell_type": "markdown",
      "source": [
        "**NOTA: EJERCICIOS ( 1,2,3 y 4 ) PARA SER RESUELTOS USANDO EXCLUSIVAMENTE CONDICIONES SIMPLES **"
      ],
      "metadata": {
        "id": "mlfdvx-2ix_N"
      }
    },
    {
      "cell_type": "markdown",
      "source": [
        "\n",
        "\n",
        "1.- Programa en Python que lea 2 números enteros, usar una condición y analizar los dos números y desplegar cual de los números es el mayor.\n",
        "\n"
      ],
      "metadata": {
        "id": "MH5hkMbidqvu"
      }
    },
    {
      "cell_type": "code",
      "execution_count": null,
      "metadata": {
        "colab": {
          "base_uri": "https://localhost:8080/"
        },
        "id": "H3a7V0hhdqBY",
        "outputId": "74e937ba-cd18-4152-eaea-c184223b35af"
      },
      "outputs": [
        {
          "output_type": "stream",
          "name": "stdout",
          "text": [
            "Seleccione un número entero:30\n",
            "Seleccione otro número entero:20\n",
            "\n",
            "El número MAYOR es el 30\n"
          ]
        }
      ],
      "source": [
        "num1 = int(input(\"Seleccione un número entero:\"))\n",
        "num2 = int(input(\"Seleccione otro número entero:\"))\n",
        "if num1 > num2:\n",
        "    print(f\"\\nEl número MAYOR es el {num1}\")\n",
        "if num2 > num1:\n",
        "    print(f\"\\nEl número MAYOR es el {num2}\")\n",
        " "
      ]
    },
    {
      "cell_type": "markdown",
      "source": [
        "2.- Programa en PythonAlgoritmo que lea 4 calificaciones de un alumno, calcular y desplegar el promedio acompañado de la leyenda \"APROBADO\" o \"REPROBADO\""
      ],
      "metadata": {
        "id": "0g-O4u9Affk1"
      }
    },
    {
      "cell_type": "code",
      "source": [
        "calif1 = int(input(\"Ingrese su primer  calificacion: \"))\n",
        "calif2 = int(input(\"Ingrese su segunda calificacion: \"))\n",
        "calif3 = int(input(\"Ingrese su tercer  calificacion: \"))\n",
        "calif4 = int(input(\"Ingrese su cuarta  calificacion: \"))\n",
        "prom = (calif1+calif2+calif3+calif4)/4;\n",
        "if prom >= 60:\n",
        "    print(f\"\\nAPROBADO\\nPromedio: {prom}\")\n",
        "if prom < 60:\n",
        "    print(f\"\\nREPROBADO\\nPromedio: {prom}\")"
      ],
      "metadata": {
        "colab": {
          "base_uri": "https://localhost:8080/"
        },
        "id": "M8oa47mUfhHZ",
        "outputId": "776b2dd7-2dbb-4823-bd5e-81ac0e1957a9"
      },
      "execution_count": null,
      "outputs": [
        {
          "output_type": "stream",
          "name": "stdout",
          "text": [
            "Ingrese su primer  calificacion: 100\n",
            "Ingrese su segunda calificacion: 50\n",
            "Ingrese su tercer  calificacion: 60\n",
            "Ingrese su cuarta  calificacion: 70\n",
            "\n",
            "APROBADO\n",
            "Promedio: 70.0\n"
          ]
        }
      ]
    },
    {
      "cell_type": "markdown",
      "source": [
        "3.- Programa en PythonAlgoritmo que a través de opciones (1.- HOMBRE 2.- MUJER ) preguntar al usuario cual es su sexo y desplegar la leyenda “HOMBRE ”, “MUJER”"
      ],
      "metadata": {
        "id": "FF2Nd2h-g4MG"
      }
    },
    {
      "cell_type": "code",
      "source": [
        "Genero = int(input(\"Favor de ingresar su genero:\\n\\n[1]Hombre\\t[2]Mujer\\t > \"))\n",
        "if Genero == 1:\n",
        "    print(\"\\nHOMBRE\")\n",
        "if Genero == 2:\n",
        "    print(\"\\nMUJER\")"
      ],
      "metadata": {
        "colab": {
          "base_uri": "https://localhost:8080/"
        },
        "id": "6QVzXu6Sg6iO",
        "outputId": "fd6e4f45-82d4-452d-951c-5f3b6494cc18"
      },
      "execution_count": null,
      "outputs": [
        {
          "output_type": "stream",
          "name": "stdout",
          "text": [
            "Favor de ingresar su genero:\n",
            "\n",
            "[1]Hombre\t[2]Mujer\t > 1\n",
            "\n",
            "HOMBRE\n"
          ]
        }
      ]
    },
    {
      "cell_type": "markdown",
      "source": [
        "4.- Programa en Python que lea un número entero, y desplegar si el número es “PAR” o “IMPAR”\n",
        "\n"
      ],
      "metadata": {
        "id": "73tYhsrehgVy"
      }
    },
    {
      "cell_type": "code",
      "source": [
        "n = int(input(\"Seleccione un número: \"))\n",
        "if n%2 == 0:\n",
        "    print(f\"El numero {n} es PAR\")\n",
        "if n%2 != 0:\n",
        "    print(f\"El número {n} es IMPAR\")\n"
      ],
      "metadata": {
        "colab": {
          "base_uri": "https://localhost:8080/"
        },
        "id": "xUkeNrE3hrkg",
        "outputId": "1ae1b5bb-fab7-4c52-b84e-4e2501b5a6b8"
      },
      "execution_count": null,
      "outputs": [
        {
          "output_type": "stream",
          "name": "stdout",
          "text": [
            "Seleccione un número: 5\n",
            "El número 5 es IMPAR\n"
          ]
        }
      ]
    },
    {
      "cell_type": "markdown",
      "source": [
        "**NOTA: EJERCICIOS (5,6,7 y 8) PARA SER RESUELTOS USANDO CONDICIÓN COMPUESTA**"
      ],
      "metadata": {
        "id": "qBl0ft5Gil4e"
      }
    },
    {
      "cell_type": "markdown",
      "source": [
        "5.- Programa en Python que lea 2 números enteros, usar una condición y analizar los dos números y desplegar cual de los números es el mayor."
      ],
      "metadata": {
        "id": "7k0FGdhtjZ3q"
      }
    },
    {
      "cell_type": "code",
      "source": [
        "num1 = int(input(\"Seleccione un número entero:\"))\n",
        "num2 = int(input(\"Seleccione otro número entero:\"))\n",
        "if num1 > num2:\n",
        "    print(f\"\\nEl número MAYOR es el {num1}\")\n",
        "else:\n",
        "    print(f\"\\nEl número MAYOR es el {num2}\")"
      ],
      "metadata": {
        "colab": {
          "base_uri": "https://localhost:8080/"
        },
        "id": "w4UsAwEmilSq",
        "outputId": "8ab4db40-9e0b-49a8-8660-f5b4f1448abb"
      },
      "execution_count": null,
      "outputs": [
        {
          "output_type": "stream",
          "name": "stdout",
          "text": [
            "Seleccione un número entero:1\n",
            "Seleccione otro número entero:2\n",
            "\n",
            "El número MAYOR es el 2\n"
          ]
        }
      ]
    },
    {
      "cell_type": "markdown",
      "source": [
        "6.- Programa en Python que lea 4 calificaciones de un alumno, calcular y desplegar el promedio acompañado de la leyenda APROBADO o REPROBADO"
      ],
      "metadata": {
        "id": "6yTZxLQCjpAu"
      }
    },
    {
      "cell_type": "code",
      "source": [
        "calif1 = int(input(\"Ingrese su primer  calificacion: \"))\n",
        "calif2 = int(input(\"Ingrese su segunda calificacion: \"))\n",
        "calif3 = int(input(\"Ingrese su tercer  calificacion: \"))\n",
        "calif4 = int(input(\"Ingrese su cuarta  calificacion: \"))\n",
        "prom = (calif1+calif2+calif3+calif4)/4;\n",
        "if prom >= 60:\n",
        "    print(f\"\\nAPROBADO\\nPromedio: {prom}\")\n",
        "else:\n",
        "    print(f\"\\nREPROBADO\\nPromedio: {prom}\")"
      ],
      "metadata": {
        "colab": {
          "base_uri": "https://localhost:8080/"
        },
        "id": "Ic5rKxSTjrEP",
        "outputId": "b2447d94-c6f7-45ae-f65a-5f076e17cde1"
      },
      "execution_count": null,
      "outputs": [
        {
          "output_type": "stream",
          "name": "stdout",
          "text": [
            "Ingrese su primer  calificacion: 100\n",
            "Ingrese su segunda calificacion: 50\n",
            "Ingrese su tercer  calificacion: 60\n",
            "Ingrese su cuarta  calificacion: 60\n",
            "\n",
            "APROBADO\n",
            "Promedio: 67.5\n"
          ]
        }
      ]
    },
    {
      "cell_type": "markdown",
      "source": [
        "7.- Programa en Python que a través de opciones (1.- HOMBRE 2.- MUJER ) preguntar al usuario cual es su sexo y desplegar la leyenda “HOMBRE ”, “MUJER”"
      ],
      "metadata": {
        "id": "mzIAQBeJjvH8"
      }
    },
    {
      "cell_type": "code",
      "source": [
        "Genero = int(input(\"Favor de ingresar su genero:\\n\\n[1]Hombre\\t[2]Mujer\\t > \"))\n",
        "if Genero == 1:\n",
        "    print(\"\\nHOMBRE\")\n",
        "else:\n",
        "    print(\"\\nMUJER\")"
      ],
      "metadata": {
        "colab": {
          "base_uri": "https://localhost:8080/"
        },
        "id": "l1dJO1g-j2VO",
        "outputId": "8b36fd06-ae46-4f75-954a-7456350adfa7"
      },
      "execution_count": null,
      "outputs": [
        {
          "output_type": "stream",
          "name": "stdout",
          "text": [
            "Favor de ingresar su genero:\n",
            "\n",
            "[1]Hombre\t[2]Mujer\t > 1\n",
            "\n",
            "HOMBRE\n"
          ]
        }
      ]
    },
    {
      "cell_type": "markdown",
      "source": [
        "8.- Programa en Python que lea un número entero, y desplegar si el número es “PAR” o “IMPAR”"
      ],
      "metadata": {
        "id": "hYQ0BDcBj5yC"
      }
    },
    {
      "cell_type": "code",
      "source": [
        "n = int(input(\"Seleccione un número: \"))\n",
        "if n%2 == 0:\n",
        "    print(f\"El numero {n} es PAR\")\n",
        "else:\n",
        "    print(f\"El número {n} es IMPAR\")"
      ],
      "metadata": {
        "colab": {
          "base_uri": "https://localhost:8080/"
        },
        "id": "atkWOM2Pj__M",
        "outputId": "f2dea2b6-7017-43f5-e516-0c89ffec2339"
      },
      "execution_count": null,
      "outputs": [
        {
          "output_type": "stream",
          "name": "stdout",
          "text": [
            "Seleccione un número: 3\n",
            "El número 3 es IMPAR\n"
          ]
        }
      ]
    }
  ]
}