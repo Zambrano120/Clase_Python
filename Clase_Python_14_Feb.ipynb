{
  "nbformat": 4,
  "nbformat_minor": 0,
  "metadata": {
    "colab": {
      "provenance": [],
      "authorship_tag": "ABX9TyPxrqzG4m3L5+BUOsJCbdm0",
      "include_colab_link": true
    },
    "kernelspec": {
      "name": "python3",
      "display_name": "Python 3"
    },
    "language_info": {
      "name": "python"
    }
  },
  "cells": [
    {
      "cell_type": "markdown",
      "metadata": {
        "id": "view-in-github",
        "colab_type": "text"
      },
      "source": [
        "<a href=\"https://colab.research.google.com/github/Zambrano120/Clase_Python/blob/main/Clase_Python_14_Feb.ipynb\" target=\"_parent\"><img src=\"https://colab.research.google.com/assets/colab-badge.svg\" alt=\"Open In Colab\"/></a>"
      ]
    },
    {
      "cell_type": "markdown",
      "source": [
        "#Expresiones logicas\n",
        "\n"
      ],
      "metadata": {
        "id": "zru48eczvXQC"
      }
    },
    {
      "cell_type": "code",
      "execution_count": 7,
      "metadata": {
        "colab": {
          "base_uri": "https://localhost:8080/"
        },
        "id": "mN4xQ7d1u09N",
        "outputId": "5cd4cdbe-654b-42c3-e872-9b5934e635ed"
      },
      "outputs": [
        {
          "output_type": "stream",
          "name": "stdout",
          "text": [
            "False\n",
            "True\n"
          ]
        },
        {
          "output_type": "execute_result",
          "data": {
            "text/plain": [
              "-1.0"
            ]
          },
          "metadata": {},
          "execution_count": 7
        }
      ],
      "source": [
        "num1 = 20\n",
        "num2 = 40\n",
        "print(num1 > 50)\n",
        "print(num2 < 50)\n",
        "2+2/4*2-2*2"
      ]
    },
    {
      "cell_type": "markdown",
      "source": [
        "#Operadores Aritméticos"
      ],
      "metadata": {
        "id": "e_mXCf-E_qCv"
      }
    },
    {
      "cell_type": "code",
      "source": [
        "num1 = 5\n",
        "num2 = 2\n",
        "print(\"Modulo 5/2 =\", num1 % 2)\n",
        "print(\"Resta 5/2 =\", num1 / 2)\n",
        "print(\"Divi Ent 5//2 =\", num1 // 2)\n",
        "print(\"5^2 =\", num1 ** 2)"
      ],
      "metadata": {
        "colab": {
          "base_uri": "https://localhost:8080/"
        },
        "id": "gStSmzN_-nF2",
        "outputId": "e1c59fee-39d1-4a56-a6a1-a5fa4d72b866"
      },
      "execution_count": 13,
      "outputs": [
        {
          "output_type": "stream",
          "name": "stdout",
          "text": [
            "Modulo 5/2 = 1\n",
            "Resta 5/2 = 2.5\n",
            "Divi Ent 5//2 = 2\n",
            "5^2 = 25\n"
          ]
        }
      ]
    },
    {
      "cell_type": "markdown",
      "source": [
        "#Operadores Logicos"
      ],
      "metadata": {
        "id": "yZ__uGtNAdQW"
      }
    },
    {
      "cell_type": "code",
      "source": [
        "print(num1 > num2 and num1 > 50)\n",
        "print(num1 > num2 or num1 < 50)\n",
        "not(num1 > num2 or num1 < 50)"
      ],
      "metadata": {
        "colab": {
          "base_uri": "https://localhost:8080/"
        },
        "id": "FoY56qFrAMMQ",
        "outputId": "cee31a66-52db-4849-9ed7-87a00c5a31d4"
      },
      "execution_count": 17,
      "outputs": [
        {
          "output_type": "stream",
          "name": "stdout",
          "text": [
            "False\n",
            "True\n"
          ]
        },
        {
          "output_type": "execute_result",
          "data": {
            "text/plain": [
              "False"
            ]
          },
          "metadata": {},
          "execution_count": 17
        }
      ]
    },
    {
      "cell_type": "code",
      "source": [],
      "metadata": {
        "id": "Qo96fGf4Cc69"
      },
      "execution_count": null,
      "outputs": []
    }
  ]
}