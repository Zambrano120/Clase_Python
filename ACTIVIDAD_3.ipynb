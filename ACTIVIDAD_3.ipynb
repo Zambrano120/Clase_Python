{
  "nbformat": 4,
  "nbformat_minor": 0,
  "metadata": {
    "colab": {
      "provenance": [],
      "authorship_tag": "ABX9TyMsTNbkV6CA3efrgftqN6/X",
      "include_colab_link": true
    },
    "kernelspec": {
      "name": "python3",
      "display_name": "Python 3"
    },
    "language_info": {
      "name": "python"
    }
  },
  "cells": [
    {
      "cell_type": "markdown",
      "metadata": {
        "id": "view-in-github",
        "colab_type": "text"
      },
      "source": [
        "<a href=\"https://colab.research.google.com/github/Zambrano120/Clase_Python/blob/main/ACTIVIDAD_3.ipynb\" target=\"_parent\"><img src=\"https://colab.research.google.com/assets/colab-badge.svg\" alt=\"Open In Colab\"/></a>"
      ]
    },
    {
      "cell_type": "markdown",
      "source": [
        "#ACTIVIDAD 3\n",
        "###REALIZA LOS SIGUIENTES EJERCICIOS USANDO LA FORMA ADECUADA Y OPTIMIZANDO LOS PROCESOS USANDO EL CONTROL DE FLUJO DE MANERA MAS ADECUADA\n",
        "\n",
        "\n",
        "1.- Algoritmo que lea 3 calificaciones calcule el promedio del alumno y desplegar: \n",
        "\n",
        "Si prom < 30 Repetir \n",
        "\n",
        "Si prom >=30 y prom <60 extraordinario \n",
        "\n",
        "Si prom >=60 y prom <70 suficiente \n",
        "\n",
        "Si prom >=70 y prom <80 Regular \n",
        "\n",
        "Si prom >=80 y prom <90 bien \n",
        "\n",
        "Si prom >=90 y prom <98 muy bien \n",
        "\n",
        "Si prom >=98 y prom <=100 excelente \n",
        "\n",
        "Si prom >100 Error en promedio \n",
        "\n",
        " *Realizar el algoritmo optimizado*"
      ],
      "metadata": {
        "id": "RKsXNzfNaTYw"
      }
    },
    {
      "cell_type": "code",
      "execution_count": null,
      "metadata": {
        "colab": {
          "base_uri": "https://localhost:8080/"
        },
        "id": "nyAgb4V_aLSR",
        "outputId": "92bdc780-abf9-4c77-979f-43851744d23d"
      },
      "outputs": [
        {
          "output_type": "stream",
          "name": "stdout",
          "text": [
            "Ingrese su primer  calificacion: 50\n",
            "Ingrese su segunda calificacion: 60\n",
            "Ingrese su tercer  calificacion: 200\n",
            "\n",
            "Promedio: 103.33333333333333 \n",
            "ERROR DE PROMEDIO.\n",
            "\n"
          ]
        }
      ],
      "source": [
        "calif1 = int(input(\"Ingrese su primer  calificacion: \"))\n",
        "calif2 = int(input(\"Ingrese su segunda calificacion: \"))\n",
        "calif3 = int(input(\"Ingrese su tercer  calificacion: \"))\n",
        "prom = (calif1 + calif2 + calif3)/3\n",
        "if prom < 30:\n",
        "    print(f\"\\nPromedio: {prom} \\nREPETIR.\\n\")\n",
        "elif prom >= 30 and prom < 60:\n",
        "    print(f\"\\nPromedio: {prom} \\nEXTRAORDINARIO.\\n\")\n",
        "elif prom >= 60 and prom < 70:\n",
        "    print(f\"\\nPromedio: {prom} \\nSUFICIENTE.\\n\")\n",
        "elif prom >= 70 and prom < 80:\n",
        "    print(f\"\\nPromedio: {prom} \\nREGULAR.\\n\")\n",
        "elif prom >= 80 and prom < 90:\n",
        "    print(f\"\\nPromedio: {prom} \\nBIEN.\\n\")\n",
        "elif prom >= 90 and prom < 98:\n",
        "    print(f\"\\nPromedio: {prom} \\nMUY BIEN.\\n\")\n",
        "elif prom >= 98 and prom <= 100:\n",
        "    print(f\"\\nPromedio: {prom} \\nEXCELENTE.\\n\")\n",
        "elif prom > 100:\n",
        "    print(f\"\\nPromedio: {prom} \\nERROR DE PROMEDIO.\\n\")"
      ]
    },
    {
      "cell_type": "markdown",
      "source": [
        "2.- Algoritmo que sirva para calcular el salario semanal de un trabajador donde se obtiene como dato de entrada las horas semanales trabajadas, el salario por hora. \n",
        "\n",
        "El programa deberá calcular el salario normal, salario extra y salario total, considerando lo siguiente: \n",
        "\n",
        "Jornada Normal de 40 horas. \n",
        "El salario normal se considera las horas trabajadas menores o igual a la jornada normal\n",
        "Salario extra se considera las horas trabajadas mayores a la jornada normal y se pagan dobles las primeras 9 y triples a partir de la décima hora extra \n",
        "\n",
        "\n",
        "Nota: Desplegar todos los datos (Salario x hora, Horas Trabajadas, Salario normal, Salario extra y Salario Total)"
      ],
      "metadata": {
        "id": "8V_MM396v3pm"
      }
    },
    {
      "cell_type": "code",
      "source": [
        "salario = int(input(\"Cuando te pagan por hora? $\"))\n",
        "horas   = int(input(\"Cuantas horas trabajo esta semana? \"))\n",
        "normal = (salario*horas)\n",
        "print(\"\\n\")\n",
        "if horas <= 40:\n",
        "    print(f\"Salario por hora: ${salario}\\n\")\n",
        "    print(f\"Horas trabajadas: {horas}\\n\")\n",
        "    print(f\"Salario normal(semanal): ${normal}\\n\")\n",
        "    print(f\"Salario extra: $0.00\\n\")\n",
        "    print(f\"Salario Total: ${normal}\\n\")\n",
        "elif horas > 40 and horas <= 49:\n",
        "    extra = ((horas-40)*2)\n",
        "    print(f\"Salario por hora: ${salario}\\n\")\n",
        "    print(f\"Horas trabajadas: {horas}\\n\")\n",
        "    print(f\"Salario normal(semanal): ${salario*40}\\n\")\n",
        "    print(f\"Salario extra: ${salario*extra}\\n\")\n",
        "    print(f\"Salario Total: ${normal+extra}\\n\")\n",
        "elif horas >= 50:\n",
        "    extra = ((horas-50)*3)\n",
        "    print(f\"Salario por hora: ${salario}\\n\")\n",
        "    print(f\"Horas trabajadas: {horas}\\n\")\n",
        "    print(f\"Salario normal(semanal): ${salario*40}\\n\")\n",
        "    print(f\"Salario extra: ${salario*extra}\\n\")\n",
        "    print(f\"Salario Total: ${normal+extra}\\n\")   \n"
      ],
      "metadata": {
        "colab": {
          "base_uri": "https://localhost:8080/"
        },
        "id": "tzLtn4J3wEG-",
        "outputId": "03f37088-4cf1-4f77-8db2-971294b86d7d"
      },
      "execution_count": null,
      "outputs": [
        {
          "output_type": "stream",
          "name": "stdout",
          "text": [
            "Cuando te pagan por hora? $1\n",
            "Cuantas horas trabajo esta semana? 59\n",
            "\n",
            "\n",
            "Salario por hora: $1\n",
            "\n",
            "Horas trabajadas: 59\n",
            "\n",
            "Salario normal(semanal): $40\n",
            "\n",
            "Salario extra: $27\n",
            "\n",
            "Salario Total: $86\n",
            "\n"
          ]
        }
      ]
    },
    {
      "cell_type": "markdown",
      "source": [
        "3.- Algoritmo que sirva para desplegar el Total de una llamada telefónica donde se pide como datos de entrada los minutos y el tipo de llamada, se cobra de la siguiente manera:\n",
        "\n",
        "1.- Llamada Local $3.00 sin límite de tiempo \n",
        "\n",
        "2.- Llamada Nacional $7.00 por los 3 primeros minutos y $2.00 minuto adicional \n",
        "\n",
        "3.- Llamada Internacional $9.00 por los 2 primeros minutos y $4.00 minuto adicional\n",
        "\n",
        " Desplegar, Subtotal,Iva (16%) y Total."
      ],
      "metadata": {
        "id": "coNkhbp82Zgj"
      }
    },
    {
      "cell_type": "code",
      "source": [
        "tiempo = int(input(\"Cuando tiempo durará la llamada (min)? \"))\n",
        "print(\"Ingrese el tipo de llamada a realizar\", end=\"\\n\")\n",
        "print(\"[1] Llamada local ($3.00 x min)\\n[2] Llamada Nacional ($7.00 x min)\\n[3] Llamada Internacional ($9.00 x min)\\n\")\n",
        "print(\"Los min extra y el IVA se cobran adicionalmente.\")\n",
        "tipo = int(input(\"Eleccion: \"))\n",
        "if tipo == 1:\n",
        "    precio = tiempo*3\n",
        "    iva = precio*.16\n",
        "    print(f\"\\n> Subtotal: ${precio}.00\\n\")\n",
        "    print(f\"> IVA(16%): ${iva}\\n\")\n",
        "    print(f\"> Total: ${precio+iva}\\n\")\n",
        "elif tipo == 2 and tiempo <= 3:\n",
        "    precio = tiempo*7\n",
        "    iva = precio*.16\n",
        "    print(f\"\\n> Subtotal: ${precio}.00\\n\")\n",
        "    print(f\"> IVA(16%): ${iva}\\n\")\n",
        "    print(f\"> Total: ${precio+iva}\\n\")\n",
        "elif tipo == 2 and tiempo > 3:\n",
        "    tiempo = tiempo-3\n",
        "    precio = 21+(2*tiempo)\n",
        "    iva = precio*.16\n",
        "    print(f\"\\n> Subtotal: ${precio}.00\\n\")\n",
        "    print(f\"> IVA(16%): ${iva}\\n\")\n",
        "    print(f\"> Total: ${precio+iva}\\n\")\n",
        "elif tipo == 3 and tiempo <= 2:\n",
        "    precio = tiempo*9\n",
        "    iva = precio*.16\n",
        "    print(f\"\\n> Subtotal: ${precio}.00\\n\")\n",
        "    print(f\"> IVA(16%): ${iva}\\n\")\n",
        "    print(f\"> Total: ${precio+iva}\\n\")\n",
        "elif tipo == 3 and tiempo > 2:\n",
        "    tiempo = tiempo-2\n",
        "    precio = 18+(4*tiempo)\n",
        "    iva = precio*.16\n",
        "    print(f\"\\n> Subtotal: ${precio}.00\\n\")\n",
        "    print(f\"> IVA(16%): ${iva}\\n\")\n",
        "    print(f\"> Total: ${precio+iva}\\n\") "
      ],
      "metadata": {
        "colab": {
          "base_uri": "https://localhost:8080/"
        },
        "id": "Gk9natjA2o_c",
        "outputId": "4c4e7348-6cd0-4bcd-d9a2-a62f5f875f30"
      },
      "execution_count": null,
      "outputs": [
        {
          "output_type": "stream",
          "name": "stdout",
          "text": [
            "Cuando tiempo durará la llamada (min)? 50\n",
            "Ingrese el tipo de llamada a realizar\n",
            "[1] Llamada local ($3.00 x min)\n",
            "[2] Llamada Nacional ($7.00 x min)\n",
            "[3] Llamada Internacional ($9.00 x min)\n",
            "\n",
            "Los min extra y el IVA se cobran adicionalmente.\n",
            "Eleccion: 3\n",
            "\n",
            "> Subtotal: $210.00\n",
            "\n",
            "> IVA(16%): $33.6\n",
            "\n",
            "> Total: $243.6\n",
            "\n"
          ]
        }
      ]
    },
    {
      "cell_type": "markdown",
      "source": [
        "4.- Algoritmo que sirva para calcular el Total a pagar por consumo de agua, donde el dato de entrada son los M3 de agua consumidos, Tomar en cuenta que se cobra escalonada de la Siguiente manera: \n",
        "\n",
        "Rango1: 0 al 4 M3 $50 x facturación sin importar cuánto consumió en este rango \n",
        "\n",
        "Rango2: 5 a 15 M3 $8.00 x M3 \n",
        "\n",
        "Rango3: 16 a 50 M3 $10.00 x M3 \n",
        "\n",
        "Rango4: 51 M3 en adelante $11.00 x M3 \n",
        "\n",
        "Nota: Desplegar SubTotal, Iva(16%), y Total a pagar."
      ],
      "metadata": {
        "id": "2-KPtkOn-juB"
      }
    },
    {
      "cell_type": "code",
      "source": [
        "consumo = int(input(\"Cuando consumio en M3 de agua? \"))\n",
        "if consumo <= 4:\n",
        "    iva = 50*.16\n",
        "    print(f\"\\n> Subtotal: $50.00\\n\")\n",
        "    print(f\"> IVA(16%): ${iva}\\n\")\n",
        "    print(f\"> Total: ${50+iva}\\n\") \n",
        "elif consumo >= 5 and consumo <= 15:\n",
        "    precio = consumo*8\n",
        "    iva = precio*.16\n",
        "    print(f\"\\n> Subtotal: ${precio}.00\\n\")\n",
        "    print(f\"> IVA(16%): ${iva}\\n\")\n",
        "    print(f\"> Total: ${precio+iva}\\n\")\n",
        "elif consumo >= 16 and consumo <= 50:\n",
        "    precio = consumo*10\n",
        "    iva = precio*.16\n",
        "    print(f\"\\n> Subtotal: ${precio}.00\\n\")\n",
        "    print(f\"> IVA(16%): ${iva}\\n\")\n",
        "    print(f\"> Total: ${precio+iva}\\n\")\n",
        "elif consumo >= 51:\n",
        "    precio = consumo*11\n",
        "    iva = precio*.16\n",
        "    print(f\"\\n> Subtotal: ${precio}.00\\n\")\n",
        "    print(f\"> IVA(16%): ${iva}\\n\")\n",
        "    print(f\"> Total: ${precio+iva}\\n\")"
      ],
      "metadata": {
        "colab": {
          "base_uri": "https://localhost:8080/"
        },
        "id": "I0XU3r11AUZT",
        "outputId": "b43839ec-fe35-4107-dca0-225a6dbab645"
      },
      "execution_count": null,
      "outputs": [
        {
          "output_type": "stream",
          "name": "stdout",
          "text": [
            "Cuando consumio en M3 de agua? 43\n",
            "\n",
            "> Subtotal: $430.00\n",
            "\n",
            "> IVA(16%): $68.8\n",
            "\n",
            "> Total: $498.8\n",
            "\n"
          ]
        }
      ]
    },
    {
      "cell_type": "markdown",
      "source": [
        "5- En la materia de Metodología de la programación se aplican 5 exámenes, calcular el promedio final de la materia donde la calificación menor de los exámenes se anula y el promedio se calcula en base a 4 exámenes.\n",
        "\n",
        "Desplegar el promedio final. "
      ],
      "metadata": {
        "id": "EtUcylwCEpjN"
      }
    },
    {
      "cell_type": "code",
      "source": [
        "calif1 = int(input(\"Ingrese su primer  calificacion: \"))\n",
        "calif2 = int(input(\"Ingrese su segunda calificacion: \"))\n",
        "calif3 = int(input(\"Ingrese su tercer  calificacion: \"))\n",
        "calif4 = int(input(\"Ingrese su cuarta  calificacion: \"))\n",
        "calif5 = int(input(\"Ingrese su quinta  calificacion: \"))\n",
        "\n",
        "if calif1 < calif2 and calif1 < calif3 and calif1 < calif4 and calif1 < calif5:\n",
        "    prom = (calif2+calif3+calif4+calif5)/4\n",
        "    print(f\"\\nPromedio: {prom}\")\n",
        "elif calif2 < calif1 and calif2 < calif3 and calif2 < calif4 and calif2 < calif5:\n",
        "    prom = (calif1+calif3+calif4+calif5)/4\n",
        "    print(f\"\\nPromedio: {prom}\")\n",
        "elif calif3 < calif2 and calif3 < calif1 and calif3 < calif4 and calif3 < calif5:\n",
        "    prom = (calif2+calif1+calif4+calif5)/4\n",
        "    print(f\"\\nPromedio: {prom}\")\n",
        "elif calif4 < calif2 and calif4 < calif3 and calif4 < calif1 and calif4 < calif5:\n",
        "    prom = (calif2+calif3+calif1+calif5)/4\n",
        "    print(f\"\\nPromedio: {prom}\")\n",
        "elif calif5 < calif2 and calif5 < calif3 and calif5 < calif4 and calif5 < calif1:\n",
        "    prom = (calif2+calif3+calif4+calif1)/4\n",
        "    print(f\"\\nPromedio: {prom}\")\n",
        "elif calif1 == calif2 and calif2 == calif3 and calif3 == calif4 and calif4 == calif5:\n",
        "    print(\"No ahi ya no te puedo ayudar.\")\n",
        "\n"
      ],
      "metadata": {
        "colab": {
          "base_uri": "https://localhost:8080/"
        },
        "id": "9t-58dpHE-qI",
        "outputId": "989056f8-e80a-4fcb-93de-0d0e65591765"
      },
      "execution_count": null,
      "outputs": [
        {
          "output_type": "stream",
          "name": "stdout",
          "text": [
            "Ingrese su primer  calificacion: 34\n",
            "Ingrese su segunda calificacion: 65\n",
            "Ingrese su tercer  calificacion: 63\n",
            "Ingrese su cuarta  calificacion: 77\n",
            "Ingrese su quinta  calificacion: 97\n",
            "\n",
            "Promedio: 75.5\n"
          ]
        }
      ]
    },
    {
      "cell_type": "markdown",
      "source": [
        "6.- Algoritmo que sirva para el juego del CHINCHAMPU (Piedra, Papel, Tijera) para 1 jugador y la computadora, (usar condición anidada) "
      ],
      "metadata": {
        "id": "QWkTegKG5SM1"
      }
    },
    {
      "cell_type": "code",
      "source": [
        "import random\n",
        "from time import sleep\n",
        "\n",
        "print(\"Iniciamos juego de CHIN CHAM PU\\n\")\n",
        "resp = int(input(\"Elige Piedra[1] Papel[2] Tijeras[3]  > \"))\n",
        "sleep(3)\n",
        "num = random.randint(1, 3);\n",
        "print(\"\")\n",
        "if resp == 1:\n",
        "    if num != 1:\n",
        "        if num  == 2:\n",
        "            print(\"Perdiste: Piedra pierde contra Papel\")\n",
        "        else:\n",
        "            print(\"Ganaste: Piedra vence a Tijeras\")\n",
        "    else:\n",
        "        print(\"Empate: Piedra contra Piedra\")\n",
        "if resp == 2:\n",
        "    if num != 2:\n",
        "        if num  == 1:\n",
        "            print(\"Ganaste: Papel vence contra Piedra\")\n",
        "        else:\n",
        "            print(\"Perdiste: Papel pierde contra Tijeras\")\n",
        "    else:\n",
        "        print(\"Empate: Papel contra Papel\")\n",
        "if resp == 3:\n",
        "    if num != 3:\n",
        "        if num  == 1:\n",
        "            print(\"Perdiste: Tijeras pierde contra Piedra\")\n",
        "        else:\n",
        "            print(\"Ganaste: Tijeras vence a Papel\")\n",
        "    else:\n",
        "        print(\"Empate: Mujer contra Mujer\")\n",
        "    "
      ],
      "metadata": {
        "colab": {
          "base_uri": "https://localhost:8080/"
        },
        "id": "daLF4EpM5Xr-",
        "outputId": "b2131ac9-5159-4472-e5a9-107d5b0c90cd"
      },
      "execution_count": null,
      "outputs": [
        {
          "output_type": "stream",
          "name": "stdout",
          "text": [
            "Iniciamos juego de CHIN CHAM PU\n",
            "\n",
            "Elige Piedra[1] Papel[2] Tijeras[3]  > 3\n",
            "\n",
            "Empate: Mujer contra Mujer\n"
          ]
        }
      ]
    },
    {
      "cell_type": "markdown",
      "source": [
        "7.- Algoritmo que sirva para el juego del CHINCHAMPU (Piedra, Papel, Tijera) para 1 jugador y la computadora, (*usar condición anidada*) \n",
        "\n"
      ],
      "metadata": {
        "id": "F8b6lqTJzh0r"
      }
    },
    {
      "cell_type": "code",
      "source": [
        "import random\n",
        "from time import sleep\n",
        "\n",
        "print(\"Iniciamos juego de CHIN CHAM PU\\n\")\n",
        "resp = int(input(\"Elige Piedra[1] Papel[2] Tijeras[3]  > \"))\n",
        "sleep(3)\n",
        "num = random.randint(1, 3);\n",
        "print(\"\")\n",
        "if resp == 1:\n",
        "    if num == 3:\n",
        "        print(\"Felicidades, tu ganaste: Piedra vence a Tijeras\")\n",
        "    elif num == 2:\n",
        "        print(\"Empate: Piedra contra Piedra\")\n",
        "    elif num == 1:\n",
        "        print(\"Perdiste: Piedra pierde contra Papel\")\n",
        "if resp == 2:\n",
        "    if num == 3:\n",
        "        print(\"Perdiste: Papel pierde contra Tijeras\")\n",
        "    elif num == 2:\n",
        "        print(\"Empate: Papel contra Papel\")\n",
        "    elif num == 1:\n",
        "        print(\"Ganaste: Papel vence a Piedra\")\n",
        "if resp == 3:\n",
        "    if num == 3:\n",
        "        print(\"Felicidades, tu ganaste: Tijeras vence a Papel\")\n",
        "    elif num == 2:\n",
        "        print(\"Empate, Mujer contra Mujer\")\n",
        "    elif num == 1:\n",
        "        print(\"Perdiste, Tijeras contra Piedra\")"
      ],
      "metadata": {
        "colab": {
          "base_uri": "https://localhost:8080/"
        },
        "id": "-NuEmIG-zo82",
        "outputId": "9c841920-10a1-44b7-f13c-29b8283d7f12"
      },
      "execution_count": null,
      "outputs": [
        {
          "output_type": "stream",
          "name": "stdout",
          "text": [
            "Iniciamos juego de CHIN CHAM PU\n",
            "\n",
            "Elige Piedra[1] Papel[2] Tijeras[3]  > 1\n",
            "\n",
            "Felicidades, tu ganaste: Piedra vence a Tijeras\n"
          ]
        }
      ]
    },
    {
      "cell_type": "markdown",
      "source": [
        "8.- Algoritmo que lea 2 números y realice las 4 operaciones básicas. El usuario deberá seleccionar cual operación básica desea. \n",
        "\n",
        " 1.- Suma \n",
        "\n",
        " 2.- Resta \n",
        "\n",
        " 3.- Multiplicación \n",
        "\n",
        " 4.-División "
      ],
      "metadata": {
        "id": "j_W7dHj-KQxK"
      }
    },
    {
      "cell_type": "code",
      "source": [
        "a = int(input(\"Primer número: \"))\n",
        "b = int(input(\"Segundo número: \"))\n",
        "print(\"Que operacion deseas realizar?\\n> [1] Suma\\n> [2] Resta\", end=\"\\n\")\n",
        "print(\"> [3] Multiplicacion\\n> [4] Division\\n\")\n",
        "op = int(input(\"Eleccion: \"))\n",
        "if op == 1:\n",
        "    print(f\"Resultado: {a+b}\")\n",
        "elif op == 2:\n",
        "    print(f\"Resultado: {a-b}\")\n",
        "elif op == 3: \n",
        "    print(f\"Resultado: {a*b}\")\n",
        "elif op == 4:\n",
        "    print(f\"Resultado: {a/b}\")"
      ],
      "metadata": {
        "colab": {
          "base_uri": "https://localhost:8080/"
        },
        "id": "ykDwG-MOKc2s",
        "outputId": "af44ad8c-a37f-4d4e-a9e8-879cfa86dd7b"
      },
      "execution_count": null,
      "outputs": [
        {
          "output_type": "stream",
          "name": "stdout",
          "text": [
            "Primer número: 10\n",
            "Segundo número: 15\n",
            "Que operacion deseas realizar?\n",
            "> [1] Suma\n",
            "> [2] Resta\n",
            "> [3] Multiplicacion\n",
            "> [4] Division\n",
            "\n",
            "Eleccion: 1\n",
            "Resultado: 25\n"
          ]
        }
      ]
    },
    {
      "cell_type": "markdown",
      "source": [
        "9.- En una tienda de ropa, los precios de los productos cambian dependiendo de la temporada. Durante la temporada de verano, todos los productos tienen un descuento del 20%. Durante la temporada de invierno, los productos con etiqueta roja tienen un descuento del 30% y los productos con etiqueta verde tienen un descuento del 15%. Durante la temporada de primavera y otoño, los productos con etiqueta amarilla tienen un descuento del 10%. Escribe un programa que calcule el precio a pagar por un cliente, tomando en cuenta los descuentos correspondientes."
      ],
      "metadata": {
        "id": "vRPdGwgi-lJi"
      }
    },
    {
      "cell_type": "code",
      "source": [
        "temp = int(input(\"En que temporada se realiza la compra\\n[1]Verano (todos los p\\\n",
        "                  roductos 20%)\\n[2]\\Invierno (etiquetas roja 30% y verde 15%)\\\n",
        "                  \\n[3]Primavera/Otoño(etiqueta amarilla 10%)\\n > \"))\n",
        "if temp == 1:\n",
        "    print(\"Todos los productos tienen el 20% de descuento\")\n",
        "    precio = float(input(\"Ingrese el precio a pagar por el cliente: > \"))\n",
        "    pago = float(precio*.20)\n",
        "    print(f\"\\n > El total a pagar es de ${precio-pago} pesos\")\n",
        "elif temp == 2:\n",
        "    print(\"\\nTodos los productos de etiqueta roja tienen el 30% de descuento\")\n",
        "    roja = float(input(\" - Ingrese el precio a pagar por el cliente por \\\n",
        "                        etiquetas rojas: > \"))\n",
        "    pre1 = float(roja-roja*.30)\n",
        "    print(\"Todos los productos de etiqueta verde tienen 15% de descuento\")\n",
        "    verde = float(input(\" - Ingrese el precio a pagar por el cliente por \\\n",
        "                         etiquetas verdes: > \"))\n",
        "    pre2 = float(verde-verde*.15)\n",
        "    print(f\"De etiqueta roja son ${roja} pesos y de etiqueta verde son \\\n",
        "            ${verde} pesos.\")\n",
        "    print(f\"\\n > El total a pagar es de ${pre1+pre2} pesos\")\n",
        "elif temp == 3:\n",
        "    print(\"\\nTodos los productos de etiqueta amarilla tienen el 10% de \\\n",
        "          descuento\")\n",
        "    amar = float(input(\" - Ingrese el precio a pagar por el cliente por \\\n",
        "                        etiquetas amarillas: > \"))\n",
        "    pre1 = float(amar-amar*.10)\n",
        "    pre2 = float(input(\" - Ingrese el precio a pagar por productos sin \\\n",
        "                        descuento: > \"))\n",
        "    print(f\"\\nDe etiqueta amarilla son ${amar} pesos y de productos sin \\\n",
        "            descuento son ${pre2} pesos.\")\n",
        "    print(f\"\\n > El total a pagar es de ${pre1+pre2} pesos\")"
      ],
      "metadata": {
        "colab": {
          "base_uri": "https://localhost:8080/"
        },
        "id": "xONS9FJr_d8E",
        "outputId": "4b0c6465-569b-40b6-af2c-6fb85d3aa0fc"
      },
      "execution_count": null,
      "outputs": [
        {
          "output_type": "stream",
          "name": "stdout",
          "text": [
            "En que temporada se realiza la compra\n",
            "[1]Verano (todos los productos 20%)\n",
            "[2]Invierno (etiquetas roja 30% y verde 15%)\n",
            "[3]Primavera/Otoño(etiqueta amarilla 10%)\n",
            " > 2\n",
            "\n",
            "Todos los productos de etiqueta roja tienen el 30% de descuento\n",
            " - Ingrese el precio a pagar por el cliente por etiquetas rojas: > 100\n",
            "Todos los productos de etiqueta verde tienen 15% de descuento\n",
            " - Ingrese el precio a pagar por el cliente por etiquetas verdes: > 100\n",
            "De etiqueta roja son $100.0 pesos y de etiqueta verde son $100.0 pesos.\n",
            "\n",
            " > El total a pagar es de $155.0 pesos\n"
          ]
        }
      ]
    }
  ]
}