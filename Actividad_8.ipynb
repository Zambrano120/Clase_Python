{
  "nbformat": 4,
  "nbformat_minor": 0,
  "metadata": {
    "colab": {
      "provenance": [],
      "authorship_tag": "ABX9TyNUkKhMjBZ54M7kCqeCG4N/",
      "include_colab_link": true
    },
    "kernelspec": {
      "name": "python3",
      "display_name": "Python 3"
    },
    "language_info": {
      "name": "python"
    }
  },
  "cells": [
    {
      "cell_type": "markdown",
      "metadata": {
        "id": "view-in-github",
        "colab_type": "text"
      },
      "source": [
        "<a href=\"https://colab.research.google.com/github/Zambrano120/Clase_Python/blob/main/Actividad_8.ipynb\" target=\"_parent\"><img src=\"https://colab.research.google.com/assets/colab-badge.svg\" alt=\"Open In Colab\"/></a>"
      ]
    },
    {
      "cell_type": "code",
      "execution_count": 1,
      "metadata": {
        "id": "yvMZUCrX5xK8"
      },
      "outputs": [],
      "source": [
        "import random\n",
        "from time import sleep\n",
        "from pickle import TRUE\n",
        "from IPython.display import clear_output\n",
        "\n",
        "#Funcion valida_num que valida un numero dentro de un rango dado\n",
        "def Valida_mesta(ri,rf,mnge):\n",
        "    while True:\n",
        "      try:\n",
        "        x = int(input(mnge))\n",
        "        if x == 0:\n",
        "            print(\"El 0 es invalido, es para salir del programa.\")\n",
        "            sleep(3)\n",
        "            return x\n",
        "      except:\n",
        "        print(\"\\nEl dato solo sera aceptado si es un número.\")\n",
        "      else:\n",
        "        if x >= ri and x <= rf:\n",
        "          return x\n",
        "        else:                \n",
        "          print(\"El número NO es valido, vuelva a intentar.\")\n",
        "          sleep(1)\n",
        "\n",
        "#------------------------------------------------------------------------------#\n",
        "\n",
        "def imprimir_lista(lista):\n",
        "        for i, lista in enumerate(lista):\n",
        "            print(f\"{[i+1]} {lista}\")\n",
        "#------------------------------------------------------------------------------# \n"
      ]
    },
    {
      "cell_type": "markdown",
      "source": [
        "#ACTIVIDAD 8\n",
        "\n",
        "\n",
        "1.- Programa en python que genere un número entre el 1 y 10 (no visible)  preguntarle al usuario que número cree que generó la computadora, el usuario tendrá 3 oportunidades de adivinar. \n",
        "\n",
        "Decir si adivino o si falló en sus 3 intentos.\n",
        "\n",
        " \n",
        "\n",
        "NOTA: 100% VALIDADO (usar función para validar números)\n",
        "\n",
        " \n",
        "\n",
        "NOTA2: El usuario podrá jugar cuantas veces lo desee, al final del juego desplegar cantidad de ganados y perdidos\n",
        "\n",
        " "
      ],
      "metadata": {
        "id": "9wOhRCC95yio"
      }
    },
    {
      "cell_type": "code",
      "source": [
        "a = 0\n",
        "b = 0\n",
        "while True:\n",
        "  x = random.randint(1,10)\n",
        "  y = Valida_mesta(1,10,\"Adivina el número entre 1 y 10, el 0 es para salir:\\n\\n > \")\n",
        "  if y == 0:\n",
        "    print(\"*****************************************************************\")\n",
        "    print(f\"Gracias por jugar:\\n > Victorias: {a}\\n > Derrotas: {b}\")\n",
        "    break\n",
        "  else:\n",
        "    if x == y:\n",
        "      a = a + 1\n",
        "      if b == 3:\n",
        "        print(\"*****************************************************************\")\n",
        "        print(\"\\nLo siento, solo tenias 3 intentos, fin del juego.\\n\")\n",
        "        op = Valida_mesta(1,2,\" > Quieres volver a jugar ? 1[Si]  2[No]\\n\")\n",
        "        if op == 2:\n",
        "          break\n",
        "      print(\"\\nFelicidades, acertaste.\")\n",
        "      print(\"*****************************************************************\")\n",
        "    else: \n",
        "      b = b + 1\n",
        "      if b == 3:\n",
        "        print(\"*****************************************************************\")\n",
        "        print(\"\\nLo siento, solo tenias 3 intentos, fin del juego.\\n\")\n",
        "        op = Valida_mesta(1,2,\" > Quieres volver a jugar ? 1[Si]  2[No]\\n\")\n",
        "        if op == 2:\n",
        "          break\n",
        "      print(\"\\nError, te equivocaste.\")\n",
        "      print(\"*****************************************************************\")"
      ],
      "metadata": {
        "colab": {
          "base_uri": "https://localhost:8080/"
        },
        "id": "GBBKHYLJ6Xto",
        "outputId": "fd5d0ecf-dfc3-430e-c71d-f41d49d763b6"
      },
      "execution_count": null,
      "outputs": [
        {
          "name": "stdout",
          "output_type": "stream",
          "text": [
            "Adivina el número entre 1 y 10, el 0 es para salir:\n",
            " > 1\n",
            "\n",
            "Felicidades, acertaste.\n",
            "*****************************************************************\n",
            "Adivina el número entre 1 y 10, el 0 es para salir:\n",
            " > 3\n",
            "\\Error, te equivocaste.\n",
            "*****************************************************************\n",
            "Adivina el número entre 1 y 10, el 0 es para salir:\n",
            " > cuatro\n",
            "\n",
            "El dato solo sera aceptado si es un número.\n",
            "Adivina el número entre 1 y 10, el 0 es para salir:\n",
            " > 14\n",
            "El número NO es valido, vuelva a intentar.\n",
            "Adivina el número entre 1 y 10, el 0 es para salir:\n",
            " > 5\n",
            "\\Error, te equivocaste.\n",
            "*****************************************************************\n",
            "Adivina el número entre 1 y 10, el 0 es para salir:\n",
            " > 7\n",
            "*****************************************************************\n",
            "\n",
            "Lo siento, solo tenias 3 intentos, fin del juego.\n",
            "\n",
            " > Quieres volver a jugar ? 1[Si]  2[No]\n",
            "2\n"
          ]
        }
      ]
    },
    {
      "cell_type": "markdown",
      "source": [
        "2.- El juego Busca Número muestra una lista de 10 numeros, sin mostrar su contenido, \n",
        "\n",
        "Al usuario se le muestra un número que se generó aleatoriamente y el usuario tendrá 3 intentos de adivinar en qué índice del arreglo se encuentra. \n",
        "\n",
        "El usuario recibirá un mensaje que diga GANASTE, PERDISTE, TIENES UN NUEVO INTENTO\n",
        "\n",
        "El usuario podrá jugar cuantas veces lo desee.\n",
        "\n",
        "\n",
        "\n",
        "NOTA: La lista se deberá llenar con números aleatorios del 1 al 10 no repetidos.\n",
        "\n",
        "(Hacer una función que regrese la lista con los 10 números sin repetir)"
      ],
      "metadata": {
        "id": "g7T3VWpQ-6ao"
      }
    },
    {
      "cell_type": "code",
      "source": [
        "def lista_no_rep():\n",
        "  lista = [1,2,3,4,5,6,7,8,9,10]\n",
        "  random.shuffle(lista)\n",
        "  return lista"
      ],
      "metadata": {
        "id": "fAZadwslABoz"
      },
      "execution_count": 3,
      "outputs": []
    },
    {
      "cell_type": "code",
      "source": [
        "op = 0\n",
        "y = random.randint(1,10)\n",
        "lista_nr = lista_no_rep()\n",
        "while True:\n",
        "  x = Valida_mesta(1,10,f\"\\nEn que posicion esta el número {y}?\\n > \")\n",
        "  op = op + 1\n",
        "  if x == lista_nr[y]:\n",
        "    print(\"Felicidades, ganaste.\")\n",
        "    print(\"*****************************************************************\")\n",
        "    imprimir_lista(lista_nr)\n",
        "    juego = Valida_mesta(1,2,\" > Quieres volver a jugar ? 1[Si]  2[No]\\n\") \n",
        "    if juego == 2:\n",
        "      break\n",
        "    else: \n",
        "      op = 0\n",
        "  else:\n",
        "    print(\"Error, fallaste.\")\n",
        "    print(\"*****************************************************************\")\n",
        "    if op == 3:\n",
        "      print(\"\\nLo siento, fin del juego :c\\n\")\n",
        "      print(\"*****************************************************************\")\n",
        "      juego = Valida_mesta(1,2,\"\\n > Quieres volver a jugar ? 1[Si]  2[No]\\n\") \n",
        "      if juego == 2:\n",
        "        break\n",
        "      else: \n",
        "        op = 0\n"
      ],
      "metadata": {
        "id": "OxZpVEZ8Mxfj",
        "colab": {
          "base_uri": "https://localhost:8080/"
        },
        "outputId": "6c09c184-4e87-45d8-f8dc-08fdb384bbd6"
      },
      "execution_count": 4,
      "outputs": [
        {
          "name": "stdout",
          "output_type": "stream",
          "text": [
            "\n",
            "En que posicion esta el número 7?\n",
            " > 3\n",
            "Error, fallaste.\n",
            "*****************************************************************\n",
            "\n",
            "En que posicion esta el número 7?\n",
            " > 4\n",
            "Error, fallaste.\n",
            "*****************************************************************\n",
            "\n",
            "En que posicion esta el número 7?\n",
            " > 6\n",
            "Error, fallaste.\n",
            "*****************************************************************\n",
            "\n",
            "Lo siento, fin del juego :c\n",
            "\n",
            "*****************************************************************\n",
            "\n",
            " > Quieres volver a jugar ? 1[Si]  2[No]\n",
            "1\n",
            "\n",
            "En que posicion esta el número 7?\n",
            " > 5\n",
            "Felicidades, ganaste.\n",
            "*****************************************************************\n",
            "[1] 1\n",
            "[2] 9\n",
            "[3] 6\n",
            "[4] 10\n",
            "[5] 2\n",
            "[6] 7\n",
            "[7] 8\n",
            "[8] 5\n",
            "[9] 4\n",
            "[10] 3\n",
            " > Quieres volver a jugar ? 1[Si]  2[No]\n",
            "2\n"
          ]
        }
      ]
    },
    {
      "cell_type": "markdown",
      "source": [
        "3.- SE ENCUENTRA EN EL ÍNDICE ? : \n",
        "\n",
        "\n",
        "\n",
        "NOTA: REALIZA 3 VERSIONES DIFERENTES DEL LLENADO DE LA LISTA ALEATORIA\n",
        "\n",
        "VERSIÓN A) Usar ciclos para validar los repetidos, y sólo random para generar los números dentro del rango\n",
        "\n",
        "\n",
        "\n",
        "VERSIÓN B) Usa funciones de la librería Random para llenar la lista con los número sin repetir\n",
        "\n",
        "\n",
        "\n",
        "VERSIÓN C) Usa funciones de la librería Random para llenar la lista con los número sin repetir"
      ],
      "metadata": {
        "id": "PQH2hHqFL7ft"
      }
    },
    {
      "cell_type": "code",
      "source": [
        "lista = list(range(1,11))\n",
        "lista = random.sample(lista,10)\n",
        "print(lista)"
      ],
      "metadata": {
        "colab": {
          "base_uri": "https://localhost:8080/"
        },
        "id": "F0nmwzCRS3PC",
        "outputId": "8697578f-cffd-4825-d6ed-947b004d0ca7"
      },
      "execution_count": null,
      "outputs": [
        {
          "output_type": "stream",
          "name": "stdout",
          "text": [
            "[8, 5, 7, 2, 6, 10, 9, 3, 1, 4]\n"
          ]
        }
      ]
    }
  ]
}