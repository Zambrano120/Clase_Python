{
  "nbformat": 4,
  "nbformat_minor": 0,
  "metadata": {
    "colab": {
      "provenance": [],
      "authorship_tag": "ABX9TyNMg24RI/reaACbSPYX/jll",
      "include_colab_link": true
    },
    "kernelspec": {
      "name": "python3",
      "display_name": "Python 3"
    },
    "language_info": {
      "name": "python"
    }
  },
  "cells": [
    {
      "cell_type": "markdown",
      "metadata": {
        "id": "view-in-github",
        "colab_type": "text"
      },
      "source": [
        "<a href=\"https://colab.research.google.com/github/Zambrano120/Clase_Python/blob/main/RAZC_PY_exa1.ipynb\" target=\"_parent\"><img src=\"https://colab.research.google.com/assets/colab-badge.svg\" alt=\"Open In Colab\"/></a>"
      ]
    },
    {
      "cell_type": "markdown",
      "source": [
        "Escribe una funcion de Python en collaboratory que realice lo siguiente:\n",
        "\n",
        "funcion que retorne una lista con 30 numeros generados aleatorios (20-100) no repetidos\n",
        "\n",
        "Escribir codigo que mande llamar la funcion y desplegar el resultado,"
      ],
      "metadata": {
        "id": "CFWJ9pQEpGlZ"
      }
    },
    {
      "cell_type": "code",
      "execution_count": 25,
      "metadata": {
        "colab": {
          "base_uri": "https://localhost:8080/"
        },
        "id": "b0mxlkIXo_JG",
        "outputId": "4ee67851-45ec-493a-85b1-a7dd2c8d5be7"
      },
      "outputs": [
        {
          "output_type": "stream",
          "name": "stdout",
          "text": [
            "[25, 87, 57, 57, 99, 54, 60, 92, 71, 26, 81, 30, 71, 72, 28, 31, 65, 78, 61, 55, 93, 49, 87, 26, 96, 30, 87, 78, 21, 20]\n"
          ]
        }
      ],
      "source": [
        "import random\n",
        "\n",
        "def genera_random_lista():\n",
        "  lista = []\n",
        "\n",
        "  i = 0\n",
        "  while i < 30:\n",
        "    x = random.randint(20,100)\n",
        "    lista.append(x)\n",
        "    i = i + 1\n",
        "  return lista\n",
        "\n",
        "listita = genera_random_lista()\n",
        "print(listita)"
      ]
    }
  ]
}