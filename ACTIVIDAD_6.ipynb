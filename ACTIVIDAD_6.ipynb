{
  "nbformat": 4,
  "nbformat_minor": 0,
  "metadata": {
    "colab": {
      "provenance": [],
      "authorship_tag": "ABX9TyPpk+xV/ERZi0dVHjlilS5a",
      "include_colab_link": true
    },
    "kernelspec": {
      "name": "python3",
      "display_name": "Python 3"
    },
    "language_info": {
      "name": "python"
    }
  },
  "cells": [
    {
      "cell_type": "markdown",
      "metadata": {
        "id": "view-in-github",
        "colab_type": "text"
      },
      "source": [
        "<a href=\"https://colab.research.google.com/github/Zambrano120/Clase_Python/blob/main/ACTIVIDAD_6.ipynb\" target=\"_parent\"><img src=\"https://colab.research.google.com/assets/colab-badge.svg\" alt=\"Open In Colab\"/></a>"
      ]
    },
    {
      "cell_type": "code",
      "source": [
        "#Correr las librerias importadas en un bloque separado\n",
        "import random\n",
        "from time import sleep\n",
        "from pickle import TRUE\n",
        "from IPython.display import clear_output"
      ],
      "metadata": {
        "id": "oso0Od9Rz34M"
      },
      "execution_count": 1,
      "outputs": []
    },
    {
      "cell_type": "code",
      "source": [
        "#Funcion valida_num que valida un numero dentro de un rango dado\n",
        "def Valida_mesta(ri,rf,mnge):\n",
        "    while True:\n",
        "      try:\n",
        "        x = int(input(mnge))\n",
        "        if x == 0:\n",
        "            print(\"El 0 es invalido, es para salir del programa.\")\n",
        "            sleep(3)\n",
        "            return x\n",
        "      except:\n",
        "        print(\"\\nEl dato solo sera aceptado si es un número.\")\n",
        "      else:\n",
        "        if x >= ri and x <= rf:\n",
        "          return x\n",
        "        else:                \n",
        "          print(\"El número NO es valido, vuelva a intentar.\")\n",
        "          sleep(1)"
      ],
      "metadata": {
        "id": "st0pWvyy5cTp"
      },
      "execution_count": 2,
      "outputs": []
    },
    {
      "cell_type": "markdown",
      "source": [
        "1.- FUNCIÓN QUE LEA n CANTIDAD DE NÚMEROS HASTA QUE EL USUARIO LO DESEE, DESPLEGAR LA SUMA DE LOS NÚMEROS, MEDIA Y VALOR DE LOS NÚMEROS MAYORES Y MENORES."
      ],
      "metadata": {
        "id": "42RelBbFztfC"
      }
    },
    {
      "cell_type": "code",
      "execution_count": 3,
      "metadata": {
        "id": "1S2m1P4lyVXQ"
      },
      "outputs": [],
      "source": [
        "def gen_num_media():\n",
        "    media = 0\n",
        "    suman = 0\n",
        "    menor = 999999\n",
        "    mayor = 0\n",
        "    n = 0\n",
        "    print(\"Ingrese numeros, un 0 es para terminar: \\n\")\n",
        "    while True:\n",
        "        x = Valida_mesta(1, 1000,\"Ingrese un valor: \")\n",
        "        suman = suman + x\n",
        "        if x == 0:\n",
        "            print(\"\\nEl 0 no vale, es para salir >:) \\n\")\n",
        "            break;\n",
        "        if x >= mayor:\n",
        "            mayor = x\n",
        "        if x <= menor:\n",
        "            menor = x  \n",
        "    media = (suman/2)\n",
        "    print(\"------------------------------------\")\n",
        "    print(f\"Suma: {suman} \\nMenor: {menor} \\nMayor: {mayor} \\nMedia: {media}\")"
      ]
    },
    {
      "cell_type": "markdown",
      "source": [
        "2.- FUNCIÓN QUE GENERE 15 NÚMEROS IMPARES ENTRE 10 Y 60 o MÁXIMO DE 25 NÚMEROS. DESPLEGAR LA MEDIA DE LOS PARES Y MEDIA DE IMPARES."
      ],
      "metadata": {
        "id": "XccGFVwl0WVB"
      }
    },
    {
      "cell_type": "code",
      "source": [
        "def genera_impar(ri=10, rf=60):\n",
        "    par = 0\n",
        "    impar = 0\n",
        "    pars = 0\n",
        "    impars = 0\n",
        "    for i in range(25):\n",
        "        x = random.randint(ri,rf)\n",
        "        print(i+1, \".- \", end=\"\")\n",
        "        print(x, end=\"\")\n",
        "        if x%2 == 0:\n",
        "            print(\" > PAR\")\n",
        "            par = par + 1\n",
        "            pars = pars + x\n",
        "        else:\n",
        "            print(\" > IMPAR\")\n",
        "            impar = impar + 1\n",
        "            impars = impars + x\n",
        "            if impar == 15:\n",
        "                    print(\"\\n > Se generaron 15 numeros impares, el programa se detuvo.\")\n",
        "                    break;\n",
        "    print(\"------------------------------------\")\n",
        "    print(f\"> Par: {par} Media: {pars/par}\\n> Impar: {impar} Media: {impars/impar}\\n\")"
      ],
      "metadata": {
        "id": "aqMgjgnH0v2D"
      },
      "execution_count": 20,
      "outputs": []
    },
    {
      "cell_type": "markdown",
      "source": [
        "3.- FUNCIÓN QUE SIRVA PARA LEER UN RANGO DADO POR EL USUARIO. REPETIR ESTA ACCIÓN HASTA QUE EL USUARIO LO DESEE, DESPLEGAR CANTIDAD DE NUMEROS Y PROMEDIO DE LOS NUMEROS."
      ],
      "metadata": {
        "id": "RrFIzk_n1DDs"
      }
    },
    {
      "cell_type": "code",
      "source": [
        "def genera_rangos (): \n",
        "    y = 0\n",
        "    sum = 0\n",
        "    ri = int(input(\"Valor de rango inferior: \"))\n",
        "    rf = int(input(\"Valor de rango superior: \"))\n",
        "    while True:\n",
        "        x = Valida_mesta(ri, rf, \"Dame un número: \")\n",
        "        if x == 0:\n",
        "            prom = y/sum\n",
        "            return prom, sum\n",
        "        if x >= ri and x <= rf:\n",
        "            sum = sum+1\n",
        "            y = y + x   \n",
        "        elif x < ri or x > rf:\n",
        "            print(f\"El numero {x} no se encuentra entre el rango, vuelve a intentar. \")"
      ],
      "metadata": {
        "id": "Hh-F_87b1GUz"
      },
      "execution_count": 5,
      "outputs": []
    },
    {
      "cell_type": "markdown",
      "source": [
        "4.- FUNCIÓN QUE RECIBA COMO PARÁMETRO LOS VALORES PARA EL ÁREA DE UN TRIANGULO Y RETORNE SU RESULTADO"
      ],
      "metadata": {
        "id": "oNNUAukH5vDY"
      }
    },
    {
      "cell_type": "code",
      "source": [
        "def triangulo_area():\n",
        "    a = Valida_mesta(0,100,\"Ingrese la longitud de la altura en cm: \")\n",
        "    b = Valida_mesta(0,100,\"Ingrese la longitud de la base en cm: \")\n",
        "    area = a * b / 2\n",
        "    return area\n"
      ],
      "metadata": {
        "id": "xl67TBri50gB"
      },
      "execution_count": 6,
      "outputs": []
    },
    {
      "cell_type": "markdown",
      "source": [
        "5.- FUNCION QUE SIRVA QUE SIRVA PARA EVALUAR EL PROMEDIO DE 3 CALIFICACIONES DADAS, SI EL USUARIO SU CALIFICACION ES APROBADA MANDAR MSGE QUE DIGA \"felicidades avanzas al siguiente semestre\", SI LA CALIFICACIONE ESTA REPROBADA EL MENSAGE \"repetir materia \" EL ALUMNO TENDRA UN MAXIMO DE CURSAR 3 VESES LA MATERIA, SI LA REPRUEBA 3 VESES MANDAR MSGE \" lastima estas fuera de la UABC\""
      ],
      "metadata": {
        "id": "JVuPKRu258mr"
      }
    },
    {
      "cell_type": "code",
      "source": [
        "def calcula_calif():\n",
        "      opor = 0\n",
        "      while True:\n",
        "          calif1 = Valida_mesta(0, 100, \"Ingrese su primer calificación: \")\n",
        "          calif2 = Valida_mesta(0, 100, \"Ingrese su segunda calificación: \")\n",
        "          calif3 = Valida_mesta(0, 100, \"Ingrese su tercer calificación: \")\n",
        "          prom = (calif1 + calif2 + calif3)/3\n",
        "          if prom >= 60:\n",
        "              print(\"Felicidades, a continuar sufriendo el semestre siguiente\")\n",
        "              break\n",
        "          else:\n",
        "              opor = opor + 1\n",
        "              print(f\"\\n > Lo siento reprobaste. \", end=\"\")\n",
        "              if opor < 3:\n",
        "                  print(\"Tienes que recursar la materia.\\n\")\n",
        "              else:\n",
        "                  print(\"Baja académica automatica.\")\n",
        "                  break\n"
      ],
      "metadata": {
        "id": "njQkcWqQ6B6V"
      },
      "execution_count": 7,
      "outputs": []
    },
    {
      "cell_type": "code",
      "source": [
        "#Funcion Menu que mande llamar a las funciones \n",
        "#------------------------------------------------------------------------------#\n",
        "def main ():\n",
        "  band = True\n",
        "  while band:\n",
        "      clear_output()\n",
        "      print(\"   Que ejercicio deseas realizar ?\")\n",
        "      print(\"\\n1.- Funcion que lee cantidad de números.\")\n",
        "      print(\"2.- Funcion que genera 15 números impares o max 25.\")\n",
        "      print(\"3.- Funcion para leer números dentro de un rango, con su promedio.\")\n",
        "      print(\"4.- Funcion para calcular el área de un triangulo.\")\n",
        "      print(\"5.- Evaluacion de promedios de una materia.\")\n",
        "      print(\"0.- Salir del programa.\")\n",
        "      op = Valida_mesta(0,5,\"\\n > Ingrese su respuesta: \")\n",
        "      if op == 0:\n",
        "        band = False\n",
        "      elif op == 1:\n",
        "        gen_num_media()\n",
        "        sleep(5)\n",
        "      elif op == 2:\n",
        "        genera_impar()\n",
        "        sleep(10)\n",
        "      elif op == 3:\n",
        "        prom, sum = genera_rangos()\n",
        "        print(f\"\\nEl total de números sumados fue {sum} con promerio de {prom}.\\n\")\n",
        "        sleep(5)\n",
        "      elif op == 4:\n",
        "        print(\"\")\n",
        "        area = triangulo_area()\n",
        "        print(f\"El area del triangulo es de {area} cm^2\")\n",
        "        sleep(10)\n",
        "      elif op == 5:\n",
        "        calcula_calif()\n",
        "        sleep(10)\n",
        "        \n",
        "\n",
        "#------------------------------------------------------------------------------#\n",
        "\n",
        "\n",
        "if __name__ == \"__main__\":\n",
        "    main()\n",
        "print(\"\\n > GRACIAS POR TODO <\\n\")"
      ],
      "metadata": {
        "id": "aUH55SUv7URB"
      },
      "execution_count": null,
      "outputs": []
    }
  ]
}