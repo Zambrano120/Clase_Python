{
  "nbformat": 4,
  "nbformat_minor": 0,
  "metadata": {
    "colab": {
      "provenance": [],
      "authorship_tag": "ABX9TyMoz9GWSDG8CnEq2g+a3El3",
      "include_colab_link": true
    },
    "kernelspec": {
      "name": "python3",
      "display_name": "Python 3"
    },
    "language_info": {
      "name": "python"
    }
  },
  "cells": [
    {
      "cell_type": "markdown",
      "metadata": {
        "id": "view-in-github",
        "colab_type": "text"
      },
      "source": [
        "<a href=\"https://colab.research.google.com/github/Zambrano120/Clase_Python/blob/main/Clase_Phyton_Feb_02.ipynb\" target=\"_parent\"><img src=\"https://colab.research.google.com/assets/colab-badge.svg\" alt=\"Open In Colab\"/></a>"
      ]
    },
    {
      "cell_type": "markdown",
      "source": [
        "#Mi primer programa en python con colaboratory\n",
        "\n",
        "    1. Uscar colaboratory\n",
        "    2. GIT-HUB\n",
        "    3. La sentencia de salida print"
      ],
      "metadata": {
        "id": "DQEkyIMu1PY7"
      }
    },
    {
      "cell_type": "code",
      "execution_count": 5,
      "metadata": {
        "colab": {
          "base_uri": "https://localhost:8080/"
        },
        "id": "l4xb0Wb91NP9",
        "outputId": "73e7692a-4f0c-4334-c88e-926e1db464ab"
      },
      "outputs": [
        {
          "output_type": "stream",
          "name": "stdout",
          "text": [
            "Hola Mundo\n"
          ]
        }
      ],
      "source": [
        "print(\"Hola Mundo\")"
      ]
    },
    {
      "cell_type": "markdown",
      "source": [
        "##Este es mi nombre"
      ],
      "metadata": {
        "id": "XBpefFwT1y0T"
      }
    },
    {
      "cell_type": "code",
      "source": [
        "print(\"Ricardo Alfonso Zambrano Cital\")"
      ],
      "metadata": {
        "colab": {
          "base_uri": "https://localhost:8080/"
        },
        "id": "IRhTvA2s1ubv",
        "outputId": "cd2d16f3-7445-4851-962a-704caf6e3b2e"
      },
      "execution_count": 6,
      "outputs": [
        {
          "output_type": "stream",
          "name": "stdout",
          "text": [
            "Ricardo Alfonso Zambrano Cital\n"
          ]
        }
      ]
    },
    {
      "cell_type": "markdown",
      "source": [
        "##Me dicen"
      ],
      "metadata": {
        "id": "Nhm198cB2P-K"
      }
    },
    {
      "cell_type": "code",
      "source": [
        "print(\"Zambrano o Zam\")"
      ],
      "metadata": {
        "colab": {
          "base_uri": "https://localhost:8080/"
        },
        "id": "dsuiripX15eQ",
        "outputId": "c43fed3e-1570-4d6e-8821-e0ea7d8109b6"
      },
      "execution_count": 7,
      "outputs": [
        {
          "output_type": "stream",
          "name": "stdout",
          "text": [
            "Zambrano o Zam\n"
          ]
        }
      ]
    },
    {
      "cell_type": "code",
      "source": [
        "# @title Codigo seccionado"
      ],
      "metadata": {
        "id": "R20hB8902U7i"
      },
      "execution_count": 9,
      "outputs": []
    },
    {
      "cell_type": "code",
      "source": [],
      "metadata": {
        "id": "p14e0cd-4nHH"
      },
      "execution_count": null,
      "outputs": []
    }
  ]
}