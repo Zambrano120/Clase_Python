{
  "nbformat": 4,
  "nbformat_minor": 0,
  "metadata": {
    "colab": {
      "provenance": [],
      "authorship_tag": "ABX9TyPC/IMNqvwjjlbVKk/FiapU",
      "include_colab_link": true
    },
    "kernelspec": {
      "name": "python3",
      "display_name": "Python 3"
    },
    "language_info": {
      "name": "python"
    }
  },
  "cells": [
    {
      "cell_type": "markdown",
      "metadata": {
        "id": "view-in-github",
        "colab_type": "text"
      },
      "source": [
        "<a href=\"https://colab.research.google.com/github/Zambrano120/Clase_Python/blob/main/Clase_Phyton_Feb_02.ipynb\" target=\"_parent\"><img src=\"https://colab.research.google.com/assets/colab-badge.svg\" alt=\"Open In Colab\"/></a>"
      ]
    },
    {
      "cell_type": "markdown",
      "source": [
        "#Mi primer programa en python con colaboratory\n",
        "\n",
        "    1. Uscar colaboratory\n",
        "    2. GIT-HUB\n",
        "    3. La sentencia de salida print"
      ],
      "metadata": {
        "id": "DQEkyIMu1PY7"
      }
    },
    {
      "cell_type": "code",
      "execution_count": 5,
      "metadata": {
        "colab": {
          "base_uri": "https://localhost:8080/"
        },
        "id": "l4xb0Wb91NP9",
        "outputId": "73e7692a-4f0c-4334-c88e-926e1db464ab"
      },
      "outputs": [
        {
          "output_type": "stream",
          "name": "stdout",
          "text": [
            "Hola Mundo\n"
          ]
        }
      ],
      "source": [
        "print(\"Hola Mundo\")"
      ]
    },
    {
      "cell_type": "markdown",
      "source": [
        "##Este es mi nombre"
      ],
      "metadata": {
        "id": "XBpefFwT1y0T"
      }
    },
    {
      "cell_type": "code",
      "source": [
        "print(\"Ricardo Alfonso Zambrano Cital\")"
      ],
      "metadata": {
        "colab": {
          "base_uri": "https://localhost:8080/"
        },
        "id": "IRhTvA2s1ubv",
        "outputId": "cd2d16f3-7445-4851-962a-704caf6e3b2e"
      },
      "execution_count": 6,
      "outputs": [
        {
          "output_type": "stream",
          "name": "stdout",
          "text": [
            "Ricardo Alfonso Zambrano Cital\n"
          ]
        }
      ]
    },
    {
      "cell_type": "markdown",
      "source": [
        "##Me dicen"
      ],
      "metadata": {
        "id": "Nhm198cB2P-K"
      }
    },
    {
      "cell_type": "code",
      "source": [
        "print(\"Zambrano o Zam\")"
      ],
      "metadata": {
        "colab": {
          "base_uri": "https://localhost:8080/"
        },
        "id": "dsuiripX15eQ",
        "outputId": "c43fed3e-1570-4d6e-8821-e0ea7d8109b6"
      },
      "execution_count": 7,
      "outputs": [
        {
          "output_type": "stream",
          "name": "stdout",
          "text": [
            "Zambrano o Zam\n"
          ]
        }
      ]
    },
    {
      "cell_type": "code",
      "source": [
        "# @title Codigo seccionado"
      ],
      "metadata": {
        "id": "R20hB8902U7i"
      },
      "execution_count": 9,
      "outputs": []
    },
    {
      "cell_type": "code",
      "source": [
        "print(\"Hola mundo cruel, y\\n despiadado\")\n",
        "print(\"Hola mundo cruel y despiadado   \")\n",
        "print(\"Hola mundo cruel                \")"
      ],
      "metadata": {
        "colab": {
          "base_uri": "https://localhost:8080/"
        },
        "id": "p14e0cd-4nHH",
        "outputId": "edff8871-6814-47b4-b5fb-b9203500079e"
      },
      "execution_count": 12,
      "outputs": [
        {
          "output_type": "stream",
          "name": "stdout",
          "text": [
            "Hola mundo cruel, y\n",
            " despiadado\n",
            "Hola mundo cruel y despiadado   \n",
            "Hola mundo cruel                \n"
          ]
        }
      ]
    },
    {
      "cell_type": "code",
      "source": [
        "print('Hola')"
      ],
      "metadata": {
        "colab": {
          "base_uri": "https://localhost:8080/"
        },
        "id": "GGEEjM0AAkLL",
        "outputId": "e12a1762-2887-4af3-ab42-c167831db381"
      },
      "execution_count": 13,
      "outputs": [
        {
          "output_type": "stream",
          "name": "stdout",
          "text": [
            "Hola\n"
          ]
        }
      ]
    },
    {
      "cell_type": "code",
      "source": [
        "print(\"Hola\",\"Adios\")\n",
        "print(\"Hola\"+\"Adios\")"
      ],
      "metadata": {
        "colab": {
          "base_uri": "https://localhost:8080/"
        },
        "id": "KZ74DdrRAweZ",
        "outputId": "428cdbd0-9339-4b15-87c9-322e9f804fd4"
      },
      "execution_count": 15,
      "outputs": [
        {
          "output_type": "stream",
          "name": "stdout",
          "text": [
            "Hola Adios\n",
            "HolaAdios\n"
          ]
        }
      ]
    },
    {
      "cell_type": "code",
      "source": [
        "msge = \"ADIOS\"\n",
        "print(\"Hola\", msge)\n",
        "print(\"Hola \\nADIOS\")"
      ],
      "metadata": {
        "colab": {
          "base_uri": "https://localhost:8080/"
        },
        "id": "LxgnW9QaA3RU",
        "outputId": "0d6c8600-4444-4082-97d5-dcac9939a245"
      },
      "execution_count": 16,
      "outputs": [
        {
          "output_type": "stream",
          "name": "stdout",
          "text": [
            "Hola ADIOS\n",
            "Hola \n",
            "ADIOS\n"
          ]
        }
      ]
    },
    {
      "cell_type": "code",
      "source": [
        "print(\"Para no saltar linea utilizamos la palabra end=\", \"Hola\", end=\" <> \")"
      ],
      "metadata": {
        "colab": {
          "base_uri": "https://localhost:8080/"
        },
        "id": "Nk1iQIqHBVYo",
        "outputId": "93538059-8c71-435b-a6f3-7883c3cc5ef3"
      },
      "execution_count": 18,
      "outputs": [
        {
          "output_type": "stream",
          "name": "stdout",
          "text": [
            "Para no saltar linea utilizamos la palabra end= Hola <> "
          ]
        }
      ]
    },
    {
      "cell_type": "code",
      "source": [
        "nombre = \"Zam\"\n",
        "edad = 28\n",
        "print(f\"Me llamo {nombre}, y tengo {edad} años\")"
      ],
      "metadata": {
        "colab": {
          "base_uri": "https://localhost:8080/"
        },
        "id": "w_wD59x0BzlJ",
        "outputId": "9ce17890-b5e1-40a5-eada-6736aaa6a0ef"
      },
      "execution_count": 24,
      "outputs": [
        {
          "output_type": "stream",
          "name": "stdout",
          "text": [
            "Me llamo Zam, y tengo 28 años\n"
          ]
        }
      ]
    },
    {
      "cell_type": "code",
      "source": [
        "  "
      ],
      "metadata": {
        "id": "M9opK3WcCf8Z"
      },
      "execution_count": null,
      "outputs": []
    }
  ]
}