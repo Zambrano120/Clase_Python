{
  "nbformat": 4,
  "nbformat_minor": 0,
  "metadata": {
    "colab": {
      "provenance": [],
      "authorship_tag": "ABX9TyN2LbX/1Tjmf86BCrR8fiAn",
      "include_colab_link": true
    },
    "kernelspec": {
      "name": "python3",
      "display_name": "Python 3"
    },
    "language_info": {
      "name": "python"
    }
  },
  "cells": [
    {
      "cell_type": "markdown",
      "metadata": {
        "id": "view-in-github",
        "colab_type": "text"
      },
      "source": [
        "<a href=\"https://colab.research.google.com/github/Zambrano120/Clase_Python/blob/main/ACTIVIDAD_4.ipynb\" target=\"_parent\"><img src=\"https://colab.research.google.com/assets/colab-badge.svg\" alt=\"Open In Colab\"/></a>"
      ]
    },
    {
      "cell_type": "markdown",
      "source": [
        "#ACTIVIDAD 4\n",
        "###REALIZA LOS SIGUIENTES EJERCICIOS USANDO LA FORMA ADECUADA Y OPTIMIZANDO LOS PROCESOS USANDO EL CONTROL DE FLUJO DE MANERA MAS ADECUADA\n",
        "\n",
        "\n",
        "1.- Algoritmo que lea 3 calificaciones calcule el promedio del alumno y desplegar: \n",
        "\n",
        "Si prom < 30 Repetir \n",
        "\n",
        "Si prom >=30 y prom <60 extraordinario \n",
        "\n",
        "Si prom >=60 y prom <70 suficiente \n",
        "\n",
        "Si prom >=70 y prom <80 Regular \n",
        "\n",
        "Si prom >=80 y prom <90 bien \n",
        "\n",
        "Si prom >=90 y prom <98 muy bien \n",
        "\n",
        "Si prom >=98 y prom <=100 excelente \n",
        "\n",
        "Si prom >100 Error en promedio "
      ],
      "metadata": {
        "id": "hoz3hl467fZE"
      }
    },
    {
      "cell_type": "code",
      "execution_count": null,
      "metadata": {
        "colab": {
          "base_uri": "https://localhost:8080/"
        },
        "id": "qC-10jXW7eqM",
        "outputId": "82bd891d-6246-4a1a-b02d-04c05d9fd7d3"
      },
      "outputs": [
        {
          "output_type": "stream",
          "name": "stdout",
          "text": [
            "Ingrese su primer  calificacion: 50\n",
            "Ingrese su segunda calificacion: 60\n",
            "Ingrese su tercer  calificacion: cien\n",
            "Solo se aceptan números. Ingrese calificaciones validas\n"
          ]
        }
      ],
      "source": [
        "try:\n",
        "    calif1 = int(input(\"Ingrese su primer  calificacion: \"))\n",
        "    calif2 = int(input(\"Ingrese su segunda calificacion: \"))\n",
        "    calif3 = int(input(\"Ingrese su tercer  calificacion: \"))\n",
        "    prom = (calif1 + calif2 + calif3)/3\n",
        "    if prom < 30:\n",
        "        print(f\"\\nPromedio: {prom} \\nREPETIR.\\n\")\n",
        "    elif prom >= 30 and prom < 60:\n",
        "        print(f\"\\nPromedio: {prom} \\nEXTRAORDINARIO.\\n\")\n",
        "    elif prom >= 60 and prom < 70:\n",
        "        print(f\"\\nPromedio: {prom} \\nSUFICIENTE.\\n\")\n",
        "    elif prom >= 70 and prom < 80:\n",
        "        print(f\"\\nPromedio: {prom} \\nREGULAR.\\n\")\n",
        "    elif prom >= 80 and prom < 90:\n",
        "        print(f\"\\nPromedio: {prom} \\nBIEN.\\n\")\n",
        "    elif prom >= 90 and prom < 98:\n",
        "        print(f\"\\nPromedio: {prom} \\nMUY BIEN.\\n\")\n",
        "    elif prom >= 98 and prom <= 100:\n",
        "        print(f\"\\nPromedio: {prom} \\nEXCELENTE.\\n\")\n",
        "    elif prom > 100:\n",
        "        print(f\"\\nPromedio: {prom} \\nERROR DE PROMEDIO.\\n\")\n",
        "except:\n",
        "    print(\"Solo se aceptan números. Ingrese calificaciones validas\")\n"
      ]
    },
    {
      "cell_type": "markdown",
      "source": [
        "2.- Algoritmo que sirva para calcular el salario semanal de un trabajador donde se obtiene como dato de entrada las horas semanales trabajadas, el salario por hora. \n",
        "\n",
        "El programa deberá calcular el salario normal, salario extra y salario total, considerando lo siguiente: \n",
        "\n",
        "Jornada Normal de 40 horas. \n",
        "El salario normal se considera las horas trabajadas menores o igual a la jornada normal\n",
        "Salario extra se considera las horas trabajadas mayores a la jornada normal y se pagan dobles las primeras 9 y triples a partir de la décima hora extra \n",
        "\n",
        "\n",
        "Nota: Desplegar todos los datos (Salario x hora, Horas Trabajadas, Salario normal, Salario extra y Salario Total)"
      ],
      "metadata": {
        "id": "bKpUIsW770p2"
      }
    },
    {
      "cell_type": "code",
      "source": [
        "try:\n",
        "    salario = int(input(\"Cuando te pagan por hora? $\"))\n",
        "    horas   = int(input(\"Cuantas horas trabajo esta semana? \"))\n",
        "    normal = (salario*horas)\n",
        "    print(\"\\n\")\n",
        "    if horas <= 40:\n",
        "        print(f\"Salario por hora: ${salario}\\n\")\n",
        "        print(f\"Horas trabajadas: {horas}\\n\")\n",
        "        print(f\"Salario normal(semanal): ${normal}\\n\")\n",
        "        print(f\"Salario extra: $0.00\\n\")\n",
        "        print(f\"Salario Total: ${normal}\\n\")\n",
        "    elif horas > 40 and horas <= 49:\n",
        "        extra = ((horas-40)*2)\n",
        "        print(f\"Salario por hora: ${salario}\\n\")\n",
        "        print(f\"Horas trabajadas: {horas}\\n\")\n",
        "        print(f\"Salario normal(semanal): ${salario*40}\\n\")\n",
        "        print(f\"Salario extra: ${salario*extra}\\n\")\n",
        "        print(f\"Salario Total: ${normal+extra}\\n\")\n",
        "    elif horas >= 50:\n",
        "        extra = ((horas-50)*3)\n",
        "        print(f\"Salario por hora: ${salario}\\n\")\n",
        "        print(f\"Horas trabajadas: {horas}\\n\")\n",
        "        print(f\"Salario normal(semanal): ${salario*40}\\n\")\n",
        "        print(f\"Salario extra: ${salario*extra}\\n\")\n",
        "        print(f\"Salario Total: ${normal+extra}\\n\")  \n",
        "except:\n",
        "    print(\"No se pueden calcular los salarios con letras. Sigue asi y no hay nomina.\")"
      ],
      "metadata": {
        "colab": {
          "base_uri": "https://localhost:8080/"
        },
        "id": "OImzMg_e73M-",
        "outputId": "0add1e53-665c-42f2-ef2a-96e0f8dc0203"
      },
      "execution_count": null,
      "outputs": [
        {
          "output_type": "stream",
          "name": "stdout",
          "text": [
            "Cuando te pagan por hora? $10\n",
            "Cuantas horas trabajo esta semana? cuarenta\n",
            "No se pueden calcular los salarios con letras. Sigue asi y no hay nomina.\n"
          ]
        }
      ]
    },
    {
      "cell_type": "markdown",
      "source": [
        "3.- Algoritmo que sirva para calcular el Total a pagar por consumo de agua, donde el dato de entrada son los M3 de agua consumidos, Tomar en cuenta que se cobra escalonada de la Siguiente manera:\n",
        "\n",
        "Rango1: 0 al 4 M3 $50 x facturación sin importar cuánto consumió en este rango\n",
        "\n",
        "Rango2: 5 a 15 M3 $8.00 x M3\n",
        "\n",
        "Rango3: 16 a 50 M3 $10.00 x M3\n",
        "\n",
        "Rango4: 51 M3 en adelante $11.00 x M3\n",
        "\n",
        "Nota: Desplegar SubTotal, Iva(16%), y Total a pagar."
      ],
      "metadata": {
        "id": "1VuxE0WO734Q"
      }
    },
    {
      "cell_type": "code",
      "source": [
        "try:\n",
        "    consumo = int(input(\"Cuando consumio en M3 de agua(ml)? \"))\n",
        "    if consumo <= 4:\n",
        "        iva = 50*.16\n",
        "        print(f\"\\n> Subtotal: $50.00\\n\")\n",
        "        print(f\"> IVA(16%): ${iva}\\n\")\n",
        "        print(f\"> Total: ${50+iva}\\n\") \n",
        "    elif consumo >= 5 and consumo <= 15:\n",
        "        precio = consumo*8\n",
        "        iva = precio*.16\n",
        "        print(f\"\\n> Subtotal: ${precio}.00\\n\")\n",
        "        print(f\"> IVA(16%): ${iva}\\n\")\n",
        "        print(f\"> Total: ${precio+iva}\\n\")\n",
        "    elif consumo >= 16 and consumo <= 50:\n",
        "        precio = consumo*10\n",
        "        iva = precio*.16\n",
        "        print(f\"\\n> Subtotal: ${precio}.00\\n\")\n",
        "        print(f\"> IVA(16%): ${iva}\\n\")\n",
        "        print(f\"> Total: ${precio+iva}\\n\")\n",
        "    elif consumo >= 51:\n",
        "        precio = consumo*11\n",
        "        iva = precio*.16\n",
        "        print(f\"\\n> Subtotal: ${precio}.00\\n\")\n",
        "        print(f\"> IVA(16%): ${iva}\\n\")\n",
        "        print(f\"> Total: ${precio+iva}\\n\")\n",
        "except:\n",
        "    print(\"\\n> Esta unidad solo acepta digitos numericos, vuelva a intentarlo.\")"
      ],
      "metadata": {
        "colab": {
          "base_uri": "https://localhost:8080/"
        },
        "id": "B2xsUdLM80ZU",
        "outputId": "2d86eac6-60c4-47f4-962c-f86da4b7c14c"
      },
      "execution_count": null,
      "outputs": [
        {
          "output_type": "stream",
          "name": "stdout",
          "text": [
            "Cuando consumio en M3 de agua(ml)? Catorce\n",
            "\n",
            "> Esta unidad solo acepta digitos numericos, vuelva a intentarlo.\n"
          ]
        }
      ]
    },
    {
      "cell_type": "markdown",
      "source": [
        "4- En la materia de Metodología de la programación se aplican 5 exámenes, calcular el promedio final de la materia donde la calificación menor de los exámenes se anula y el promedio se calcula en base a 4 exámenes.\n",
        "\n",
        "# Desplegar el promedio final.y cual es la mas baja que se elimino."
      ],
      "metadata": {
        "id": "y67hJR5888As"
      }
    },
    {
      "cell_type": "code",
      "source": [
        "try:\n",
        "    calif1 = int(input(\"Ingrese su primer  calificacion: \"))\n",
        "    calif2 = int(input(\"Ingrese su segunda calificacion: \"))\n",
        "    calif3 = int(input(\"Ingrese su tercer  calificacion: \"))\n",
        "    calif4 = int(input(\"Ingrese su cuarta  calificacion: \"))\n",
        "    calif5 = int(input(\"Ingrese su quinta  calificacion: \"))\n",
        "\n",
        "    if calif1 < calif2 and calif1 < calif3 and calif1 < calif4 and calif1 < calif5:\n",
        "        prom = (calif2+calif3+calif4+calif5)/4\n",
        "        print(f\"\\nPromedio: {prom}\\nCalificacion eliminada: {calif1}\")\n",
        "    elif calif2 < calif1 and calif2 < calif3 and calif2 < calif4 and calif2 < calif5:\n",
        "        prom = (calif1+calif3+calif4+calif5)/4\n",
        "        print(f\"\\nPromedio: {prom}\\nCalificacion eliminada: {calif2}\")\n",
        "    elif calif3 < calif2 and calif3 < calif1 and calif3 < calif4 and calif3 < calif5:\n",
        "        prom = (calif2+calif1+calif4+calif5)/4\n",
        "        print(f\"\\nPromedio: {prom}\\nCalificacion eliminada: {calif3}\")\n",
        "    elif calif4 < calif2 and calif4 < calif3 and calif4 < calif1 and calif4 < calif5:\n",
        "        prom = (calif2+calif3+calif1+calif5)/4\n",
        "        print(f\"\\nPromedio: {prom}\\nCalificacion eliminada: {calif4}\")\n",
        "    elif calif5 < calif2 and calif5 < calif3 and calif5 < calif4 and calif5 < calif1:\n",
        "        prom = (calif2+calif3+calif4+calif1)/4\n",
        "        print(f\"\\nPromedio: {prom}\\nCalificacion eliminada: {calif5}\")\n",
        "    elif calif1 == calif2 and calif2 == calif3 and calif3 == calif4 and calif4 == calif5:\n",
        "        print(\"No ahi ya no te puedo ayudar.\")\n",
        "except:\n",
        "    print(\"\\nNo podemos evaluar las calificaciones si no son ingresadas al sistema con numeros. Vuelve a intentarlo.\")"
      ],
      "metadata": {
        "colab": {
          "base_uri": "https://localhost:8080/"
        },
        "id": "rR3G6uON9Neo",
        "outputId": "74a05cfc-18a6-4204-e6cc-253221c9a5fc"
      },
      "execution_count": null,
      "outputs": [
        {
          "output_type": "stream",
          "name": "stdout",
          "text": [
            "Ingrese su primer  calificacion: 100\n",
            "Ingrese su segunda calificacion: 40\n",
            "Ingrese su tercer  calificacion: 50\n",
            "Ingrese su cuarta  calificacion: Cien\n",
            "\n",
            "No podemos evaluar las calificaciones si no son ingresadas al sistema con numeros. Vuelve a intentarlo.\n"
          ]
        }
      ]
    },
    {
      "cell_type": "markdown",
      "source": [
        "5.- Programa en Python que sirva para el juego del CHINCHAMPU (Piedra, Papel, Tijera) para 1 jugador y la computadora"
      ],
      "metadata": {
        "id": "Rru31kS4Fqec"
      }
    },
    {
      "cell_type": "code",
      "source": [
        "import random\n",
        "from time import sleep\n",
        "\n",
        "try:\n",
        "    print(\"Iniciamos juego de CHIN CHAM PU\\n\")\n",
        "    resp = int(input(\"Elige Piedra[1] Papel[2] Tijeras[3]  > \"))\n",
        "    sleep(3)\n",
        "    num = random.randint(1, 3);\n",
        "    print(\"\")\n",
        "    if resp == 1:\n",
        "        if num == 3:\n",
        "            print(\"Felicidades, tu ganaste: Piedra vence a Tijeras\")\n",
        "        elif num == 2:\n",
        "            print(\"Empate: Piedra contra Piedra\")\n",
        "        elif num == 1:\n",
        "            print(\"Perdiste: Piedra pierde contra Papel\")\n",
        "    if resp == 2:\n",
        "        if num == 3:\n",
        "            print(\"Perdiste: Papel pierde contra Tijeras\")\n",
        "        elif num == 2:\n",
        "            print(\"Empate: Papel contra Papel\")\n",
        "        elif num == 1:\n",
        "            print(\"Ganaste: Papel vence a Piedra\")\n",
        "    if resp == 3:\n",
        "        if num == 3:\n",
        "            print(\"Felicidades, tu ganaste: Tijeras vence a Papel\")\n",
        "        elif num == 2:\n",
        "            print(\"Empate, Mujer contra Mujer\")\n",
        "        elif num == 1:\n",
        "            print(\"Perdiste, Tijeras contra Piedra\")\n",
        "except: \n",
        "    print(\"¿Para que quieres letras cuando se te piden números?\")"
      ],
      "metadata": {
        "colab": {
          "base_uri": "https://localhost:8080/"
        },
        "id": "5E5m-hGoGICO",
        "outputId": "0ac53ed3-d0fa-4564-b940-24393342ba4c"
      },
      "execution_count": null,
      "outputs": [
        {
          "output_type": "stream",
          "name": "stdout",
          "text": [
            "Iniciamos juego de CHIN CHAM PU\n",
            "\n",
            "Elige Piedra[1] Papel[2] Tijeras[3]  > Tijeras\n",
            "¿Para que quieres letras cuando se te piden números?\n"
          ]
        }
      ]
    },
    {
      "cell_type": "markdown",
      "source": [
        "6.- Programa en Python que lea 4 números enteros desplegar cuales el menor, cual es mayor"
      ],
      "metadata": {
        "id": "rgKyjh_JHQOw"
      }
    },
    {
      "cell_type": "code",
      "source": [
        "try:\n",
        "    num1 = int(input(\"Ingrese primer número: \"))\n",
        "    num2 = int(input(\"Ingrese segundo número: \"))\n",
        "    num3 = int(input(\"Ingrese el tercer número:\"))\n",
        "    num4 = int(input(\"Ingrese el cuarto núnmero:\"))\n",
        "    max = max([num1,num2,num3,num4])\n",
        "    min = min([num1,num2,num3,num4])\n",
        "    print(f\"El número menor es:{min}\\nEl número mayor es {max}\")\n",
        "except:\n",
        "    print(\"Solo se admiten números.\")\n"
      ],
      "metadata": {
        "colab": {
          "base_uri": "https://localhost:8080/"
        },
        "id": "fPlfvBasHRPf",
        "outputId": "4f222f9a-e0d7-4a89-d762-48e98264fb5e"
      },
      "execution_count": null,
      "outputs": [
        {
          "output_type": "stream",
          "name": "stdout",
          "text": [
            "Ingrese primer número: 1\n",
            "Ingrese segundo número: 2\n",
            "Ingrese el tercer número:3\n",
            "Ingrese el cuarto núnmero:cuatro\n",
            "Solo se admiten números.\n"
          ]
        }
      ]
    },
    {
      "cell_type": "markdown",
      "source": [
        "7.- Programa en Python que sirva para calcular el área de un triangulo, los datos de entrada deben ser forzosamente de tipo real"
      ],
      "metadata": {
        "id": "4gK7XBAcJBqm"
      }
    },
    {
      "cell_type": "code",
      "source": [
        "try:\n",
        "    b = float(input(\"Ingrese la longitud de la base (cm): \"))\n",
        "    a = float(input(\"Ingrese la longitud de la altura (cm): \"))\n",
        "    area = a * b / 2\n",
        "    print(f\"El área del triangulo es de {area} cm^2\")\n",
        "except:\n",
        "    print(\"No sirven las letras, solo los números.\")"
      ],
      "metadata": {
        "colab": {
          "base_uri": "https://localhost:8080/"
        },
        "id": "j-DLzXfTJIJb",
        "outputId": "638e3d77-8cba-47e9-d123-1c890e0437ad"
      },
      "execution_count": null,
      "outputs": [
        {
          "output_type": "stream",
          "name": "stdout",
          "text": [
            "Ingrese la longitud de la base (cm): 12.5\n",
            "Ingrese la longitud de la altura (cm): Veinte\n",
            "No sirven las letras, solo los números.\n"
          ]
        }
      ]
    },
    {
      "cell_type": "markdown",
      "source": [
        "8.- Programa en Python que sirva para calcular el área de un circulo\n",
        "\n"
      ],
      "metadata": {
        "id": "E6yq117FL4dH"
      }
    },
    {
      "cell_type": "code",
      "source": [
        "try:\n",
        "    radio = float(input(\"Ingrese la longitud del radio (cm): \"))\n",
        "    area = 3.1416 * pow(radio,2)\n",
        "    print(f\"El área del circulo es de {area} cm^2\")\n",
        "except:\n",
        "    print(\"No sirven las letras, solo los números.\")"
      ],
      "metadata": {
        "colab": {
          "base_uri": "https://localhost:8080/"
        },
        "id": "B6SDoH2oL5m3",
        "outputId": "eebf6d54-ca50-480b-bf38-ea735f674c67"
      },
      "execution_count": null,
      "outputs": [
        {
          "output_type": "stream",
          "name": "stdout",
          "text": [
            "Ingrese la longitud del radio (cm): 6\n",
            "El área del circulo es de 113.0976 cm^2\n"
          ]
        }
      ]
    }
  ]
}