{
  "nbformat": 4,
  "nbformat_minor": 0,
  "metadata": {
    "colab": {
      "provenance": [],
      "authorship_tag": "ABX9TyOn1fBQ0QETPs2R5HR/pjPn",
      "include_colab_link": true
    },
    "kernelspec": {
      "name": "python3",
      "display_name": "Python 3"
    },
    "language_info": {
      "name": "python"
    }
  },
  "cells": [
    {
      "cell_type": "markdown",
      "metadata": {
        "id": "view-in-github",
        "colab_type": "text"
      },
      "source": [
        "<a href=\"https://colab.research.google.com/github/Zambrano120/Clase_Python/blob/main/Clase_Python_9_Feb.ipynb\" target=\"_parent\"><img src=\"https://colab.research.google.com/assets/colab-badge.svg\" alt=\"Open In Colab\"/></a>"
      ]
    },
    {
      "cell_type": "markdown",
      "source": [
        "La funcion input te sirve para guardar una cadena"
      ],
      "metadata": {
        "id": "ifVoiectC3wP"
      }
    },
    {
      "cell_type": "code",
      "execution_count": 3,
      "metadata": {
        "colab": {
          "base_uri": "https://localhost:8080/"
        },
        "id": "iKsPr8kjC3BD",
        "outputId": "dcffdd55-446c-471f-90d0-eb0fe6df85c1"
      },
      "outputs": [
        {
          "output_type": "stream",
          "name": "stdout",
          "text": [
            "¿Cómo te llamas?\n",
            "Ricardo Zambrano\n",
            "Hola Ricardo Zambrano\n"
          ]
        }
      ],
      "source": [
        "print(\"¿Cómo te llamas?\")\n",
        "nombre = input()\n",
        "print(f\"Hola {nombre}\")"
      ]
    },
    {
      "cell_type": "markdown",
      "source": [
        "Otra forma de utilizar el input es alimentarlo con texto "
      ],
      "metadata": {
        "id": "8ISRmEihDW5a"
      }
    },
    {
      "cell_type": "code",
      "source": [
        "nombre = input(\"Hola, ¿Cómo te llamas? \")\n",
        "print(f\"Hola {nombre}\")"
      ],
      "metadata": {
        "colab": {
          "base_uri": "https://localhost:8080/"
        },
        "id": "7N4Vy4NwDLj4",
        "outputId": "7c2f13c0-e1f9-46bb-b745-c4d838945115"
      },
      "execution_count": 4,
      "outputs": [
        {
          "output_type": "stream",
          "name": "stdout",
          "text": [
            "Hola, ¿Cómo te llamas? Ricardo Zambrano\n",
            "Hola Ricardo Zambrano\n"
          ]
        }
      ]
    },
    {
      "cell_type": "markdown",
      "source": [],
      "metadata": {
        "id": "gZFZPnOLD0Ck"
      }
    },
    {
      "cell_type": "markdown",
      "source": [
        "Lenguaje fuertemente tipado, es decir que mientras un espacio de memoria se mueve puede tiparlo de diferente manera, creando asi un espacio de memoria q se comparte mientras 2 o mas variables tengan el mismo valor."
      ],
      "metadata": {
        "id": "Z2wjWjD1ExS-"
      }
    },
    {
      "cell_type": "code",
      "source": [
        "num = 5.35\n",
        "print(f\"El elemento es: {num}\")\n",
        "num = int (num)\n",
        "print(f\"El elemento es: {num}\")"
      ],
      "metadata": {
        "colab": {
          "base_uri": "https://localhost:8080/"
        },
        "id": "hdohdWtdDxlW",
        "outputId": "b088744e-d876-4180-dfcd-c00b18e74c56"
      },
      "execution_count": 8,
      "outputs": [
        {
          "output_type": "stream",
          "name": "stdout",
          "text": [
            "El elemento es: 5.35\n",
            "El elemento es: 5\n"
          ]
        }
      ]
    },
    {
      "cell_type": "markdown",
      "source": [
        "Reglas de como nombrar las variables: buenas practicas de python.\n",
        "\n",
        "#Variables y funciones\n",
        "###Segun la guia de estilo Python, los nombres de variables (y de funciones) deben escribirse en minúscula, con las palabras separadas por un guión bajo para mejorar la legibilidad."
      ],
      "metadata": {
        "id": "9PiPgnKCGMun"
      }
    },
    {
      "cell_type": "code",
      "source": [],
      "metadata": {
        "id": "BR3JNCFvEWxo"
      },
      "execution_count": null,
      "outputs": []
    }
  ]
}