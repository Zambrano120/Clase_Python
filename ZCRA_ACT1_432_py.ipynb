{
  "nbformat": 4,
  "nbformat_minor": 0,
  "metadata": {
    "colab": {
      "provenance": [],
      "authorship_tag": "ABX9TyM1VHIxuaBJYznHTqvoFNx7",
      "include_colab_link": true
    },
    "kernelspec": {
      "name": "python3",
      "display_name": "Python 3"
    },
    "language_info": {
      "name": "python"
    }
  },
  "cells": [
    {
      "cell_type": "markdown",
      "metadata": {
        "id": "view-in-github",
        "colab_type": "text"
      },
      "source": [
        "<a href=\"https://colab.research.google.com/github/Zambrano120/Clase_Python/blob/main/ZCRA_ACT1_432_py.ipynb\" target=\"_parent\"><img src=\"https://colab.research.google.com/assets/colab-badge.svg\" alt=\"Open In Colab\"/></a>"
      ]
    },
    {
      "cell_type": "markdown",
      "source": [
        "#**ACTIVIDAD 1**\n",
        "\n",
        "1.- Programa en Python Mostrar un mensaje que diga “HOLA MUNDO” en un solo renglón usando 2 print "
      ],
      "metadata": {
        "id": "3uEz-p7bZU4V"
      }
    },
    {
      "cell_type": "code",
      "source": [
        "print(\"HOLA \", end=\"\")\n",
        "print(\"MUNDO\")"
      ],
      "metadata": {
        "colab": {
          "base_uri": "https://localhost:8080/"
        },
        "id": "ZiNapr8aZc3m",
        "outputId": "4dd4e088-35eb-41d9-a5aa-122bc61ed5f0"
      },
      "execution_count": 1,
      "outputs": [
        {
          "output_type": "stream",
          "name": "stdout",
          "text": [
            "HOLA MUNDO\n"
          ]
        }
      ]
    },
    {
      "cell_type": "markdown",
      "source": [
        "2.- Programa en Python que lea 2 números, realizar la suma y desplegar la suma de los 2 números"
      ],
      "metadata": {
        "id": "VNqAgLPnauyz"
      }
    },
    {
      "cell_type": "code",
      "source": [
        "Num1 = int(input(\"Ingrese el primer numero: \"))\n",
        "Num2 = int(input(\"Ingrese el segundo numero: \"))\n",
        "Res  = Num1 + Num2\n",
        "print (\"La suma de los numeros es:\", Res)"
      ],
      "metadata": {
        "colab": {
          "base_uri": "https://localhost:8080/"
        },
        "id": "Px5YdL1Za1wy",
        "outputId": "f2d4cb61-4f38-4512-c425-f83efcb702ab"
      },
      "execution_count": null,
      "outputs": [
        {
          "output_type": "stream",
          "name": "stdout",
          "text": [
            "Ingrese el primer numero: 5\n",
            "Ingrese el segundo numero: 3\n",
            "La suma de los numeros es: 8\n"
          ]
        }
      ]
    },
    {
      "cell_type": "markdown",
      "source": [
        "3.- Programa en Python que lea 2 números y realice las 4 operaciones básicas"
      ],
      "metadata": {
        "id": "oA3n7SKCbkDP"
      }
    },
    {
      "cell_type": "code",
      "source": [
        "Num1 = int(input(\"Ingrese el primer numero: \"))\n",
        "Num2 = int(input(\"Ingrese el segundo numero: \"))\n",
        "Suma = Num1 + Num2\n",
        "print (\"Suma =\", Suma)\n",
        "Rest = Num1 - Num2\n",
        "print (\"Resta =\", Rest)\n",
        "Divi = Num1 / Num2\n",
        "print (\"Divicion =\", Divi)\n",
        "Mult = Num1 * Num2\n",
        "print (\"Multiplicacion =\", Mult)\n"
      ],
      "metadata": {
        "colab": {
          "base_uri": "https://localhost:8080/"
        },
        "id": "umGZuDMUdJjk",
        "outputId": "4592d518-7bd9-4336-9dcf-3866fca253d6"
      },
      "execution_count": null,
      "outputs": [
        {
          "output_type": "stream",
          "name": "stdout",
          "text": [
            "Ingrese el primer numero: 3\n",
            "Ingrese el segundo numero: 5\n",
            "Suma = 8\n",
            "Resta = -2\n",
            "Divicion = 0.6\n",
            "Multiplicacion = 15\n"
          ]
        }
      ]
    },
    {
      "cell_type": "markdown",
      "source": [
        "4.- Programa en Python Que sirva para calcular el área de un triángulo"
      ],
      "metadata": {
        "id": "HZl5q2dLd5wr"
      }
    },
    {
      "cell_type": "code",
      "source": [
        "h = int(input(\"Ingrese la altura (cm): \"))\n",
        "b = int(input(\"Ingrese la base (cm): \"))\n",
        "area = (b*h)/2\n",
        "print(\"El area del triangulo es de:\", area, end=\"\")\n",
        "print(\" cm.\")"
      ],
      "metadata": {
        "colab": {
          "base_uri": "https://localhost:8080/"
        },
        "id": "J5Rdmantd-vU",
        "outputId": "bb681ca9-0904-4cc9-da25-d2b8282872f5"
      },
      "execution_count": null,
      "outputs": [
        {
          "output_type": "stream",
          "name": "stdout",
          "text": [
            "Ingrese la altura (cm): 5\n",
            "Ingrese la base (cm): 10\n",
            "El area del triangulo es de: 25.0 cm.\n"
          ]
        }
      ]
    },
    {
      "cell_type": "markdown",
      "source": [
        "5.- Programa en Python que lea una medida en centímetros y desplegar la misma medida pero convertida en pies y pulgadas"
      ],
      "metadata": {
        "id": "eDUP4sulexz0"
      }
    },
    {
      "cell_type": "code",
      "source": [
        "cm = int(input(\"Ingrese una cantidad en centimetros: \"))\n",
        "x  = cm * 0.032808\n",
        "y  = cm * 0.39370\n",
        "print(\"\\nPies: \", x)\n",
        "print(\"Pulgadas: \", y)"
      ],
      "metadata": {
        "id": "h3CH8fHie-Ae",
        "colab": {
          "base_uri": "https://localhost:8080/"
        },
        "outputId": "f8ff6e6c-7226-46d6-dee4-b21424588d57"
      },
      "execution_count": null,
      "outputs": [
        {
          "output_type": "stream",
          "name": "stdout",
          "text": [
            "Ingrese una cantidad en centimetros: 180\n",
            "\n",
            "Pies:  5.90544\n",
            "Pulgadas:  70.866\n"
          ]
        }
      ]
    },
    {
      "cell_type": "markdown",
      "source": [
        "6.- Programa en Python que lea una temperatura en grados centígrados y desplegarla en Grados Fahrenheit y grados kelvin"
      ],
      "metadata": {
        "id": "d-WR5kFcezlE"
      }
    },
    {
      "cell_type": "code",
      "source": [
        "gC = int(input(\"Ingrese una cantidad en grados Celsius: \"))\n",
        "gF  = ((gC * 9) / 5) + 32;\n",
        "gK  = gC + 273;\n",
        "print(\"\\nFahrenheit: \", gF)\n",
        "print(\"Kelvin: \", gK)"
      ],
      "metadata": {
        "id": "c7D9oIU0e4Pm",
        "colab": {
          "base_uri": "https://localhost:8080/"
        },
        "outputId": "a7d27215-1c4a-45f5-8468-2def84811438"
      },
      "execution_count": null,
      "outputs": [
        {
          "output_type": "stream",
          "name": "stdout",
          "text": [
            "Ingrese una cantidad en grados Celsius: 36\n",
            "\n",
            "Fahrenheit:  96.8\n",
            "Kelvin:  309\n"
          ]
        }
      ]
    },
    {
      "cell_type": "markdown",
      "source": [
        "7.- Programa en Python que lea 4 calificaciones de un alumno, desplegar el promedio del alumno"
      ],
      "metadata": {
        "id": "yiOM9ITme45k"
      }
    },
    {
      "cell_type": "code",
      "source": [
        "calif1 = int(input(\"Ingrese su primer  calificacion: \"))\n",
        "calif2 = int(input(\"Ingrese su segunda calificacion: \"))\n",
        "calif3 = int(input(\"Ingrese su tercer  calificacion: \"))\n",
        "calif4 = int(input(\"Ingrese su cuarta  calificacion: \"))\n",
        "prom = (calif1+calif2+calif3+calif4)/4;\n",
        "print(\"Promedio: \", prom);"
      ],
      "metadata": {
        "id": "06pXhAiSe-50",
        "colab": {
          "base_uri": "https://localhost:8080/"
        },
        "outputId": "01ec3fb6-27ed-4b25-8366-0ade88953934"
      },
      "execution_count": null,
      "outputs": [
        {
          "output_type": "stream",
          "name": "stdout",
          "text": [
            "Ingrese su primer  calificacion: 90\n",
            "Ingrese su segunda calificacion: 94\n",
            "Ingrese su tercer  calificacion: 87\n",
            "Ingrese su cuarta  calificacion: 70\n",
            "Promedio:  85.25\n"
          ]
        }
      ]
    }
  ]
}