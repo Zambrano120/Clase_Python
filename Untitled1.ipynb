{
  "nbformat": 4,
  "nbformat_minor": 0,
  "metadata": {
    "colab": {
      "provenance": [],
      "authorship_tag": "ABX9TyPfM14EM31plFkMS+oEEdEg",
      "include_colab_link": true
    },
    "kernelspec": {
      "name": "python3",
      "display_name": "Python 3"
    },
    "language_info": {
      "name": "python"
    }
  },
  "cells": [
    {
      "cell_type": "markdown",
      "metadata": {
        "id": "view-in-github",
        "colab_type": "text"
      },
      "source": [
        "<a href=\"https://colab.research.google.com/github/Zambrano120/Clase_Python/blob/main/Untitled1.ipynb\" target=\"_parent\"><img src=\"https://colab.research.google.com/assets/colab-badge.svg\" alt=\"Open In Colab\"/></a>"
      ]
    },
    {
      "cell_type": "markdown",
      "source": [
        "Escribe una funcion de Python en collaboratory que realice lo siguiente:\n",
        "\n",
        "funcion que retorne un numero dentro de un rango dado, validar el numero que cumpla el requisito del rango, la funcion debera validar que el programa no marque error por introducir informacion erronea (usar try except)\n",
        "\n",
        "Escribir codigo que mande llamar la funcion y desplegar el resultado,"
      ],
      "metadata": {
        "id": "CFWJ9pQEpGlZ"
      }
    },
    {
      "cell_type": "code",
      "execution_count": null,
      "metadata": {
        "id": "b0mxlkIXo_JG"
      },
      "outputs": [],
      "source": [
        "def Valida_mesta(ri,rf,mnge):\n",
        "    while True:\n",
        "      try:\n",
        "        x = int(input(mnge))\n",
        "        if x == 0:\n",
        "            print(\"\\nEl 0 es invalido, es para salir del programa.\")\n",
        "            return x\n",
        "      except:\n",
        "        print(\"\\nEl dato solo sera aceptado si es un número.\")\n",
        "      else:\n",
        "        if x >= ri and x <= rf:\n",
        "          return x\n",
        "        else:                \n",
        "          print(\"\\nEl número NO es valido, vuelva a intentar.\\n\")\n",
        "\n",
        "num = Valida_mesta(1, 10, \"Ingrese un número del 1 al 10.\")"
      ]
    }
  ]
}