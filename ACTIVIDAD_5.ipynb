{
  "nbformat": 4,
  "nbformat_minor": 0,
  "metadata": {
    "colab": {
      "provenance": [],
      "authorship_tag": "ABX9TyNBu6avFy0suSNltJjwL296",
      "include_colab_link": true
    },
    "kernelspec": {
      "name": "python3",
      "display_name": "Python 3"
    },
    "language_info": {
      "name": "python"
    }
  },
  "cells": [
    {
      "cell_type": "markdown",
      "metadata": {
        "id": "view-in-github",
        "colab_type": "text"
      },
      "source": [
        "<a href=\"https://colab.research.google.com/github/Zambrano120/Clase_Python/blob/main/ACTIVIDAD_5.ipynb\" target=\"_parent\"><img src=\"https://colab.research.google.com/assets/colab-badge.svg\" alt=\"Open In Colab\"/></a>"
      ]
    },
    {
      "cell_type": "markdown",
      "source": [
        "#ACTIVIDAD 5\n",
        "1.- Programa en Python que genere 40 números aleatorios entre el 0 y 200, desplegar los números y la leyenda de cada número si es par o impar , la cantidad de los números pares e impares así como la suma de los números pares o impares."
      ],
      "metadata": {
        "id": "X05-8rr-FR96"
      }
    },
    {
      "cell_type": "code",
      "source": [
        "#Correr las librerias importadas en un bloque separado\n",
        "import random\n",
        "from pickle import TRUE"
      ],
      "metadata": {
        "id": "UxoSXlCtaWe-"
      },
      "execution_count": 3,
      "outputs": []
    },
    {
      "cell_type": "code",
      "execution_count": null,
      "metadata": {
        "colab": {
          "base_uri": "https://localhost:8080/"
        },
        "id": "OZDi-VCsCixq",
        "outputId": "700a0cc0-d2f0-4feb-c5fe-ac068cce71ea"
      },
      "outputs": [
        {
          "output_type": "stream",
          "name": "stdout",
          "text": [
            "1.- 174 --> Par\n",
            "2.- 74 --> Par\n",
            "3.- 3 --> Impar\n",
            "4.- 78 --> Par\n",
            "5.- 119 --> Impar\n",
            "6.- 26 --> Par\n",
            "7.- 50 --> Par\n",
            "8.- 18 --> Par\n",
            "9.- 124 --> Par\n",
            "10.- 124 --> Par\n",
            "11.- 22 --> Par\n",
            "12.- 76 --> Par\n",
            "13.- 180 --> Par\n",
            "14.- 34 --> Par\n",
            "15.- 34 --> Par\n",
            "16.- 136 --> Par\n",
            "17.- 76 --> Par\n",
            "18.- 143 --> Impar\n",
            "19.- 195 --> Impar\n",
            "20.- 86 --> Par\n",
            "21.- 184 --> Par\n",
            "22.- 96 --> Par\n",
            "23.- 66 --> Par\n",
            "24.- 126 --> Par\n",
            "25.- 102 --> Par\n",
            "26.- 135 --> Impar\n",
            "27.- 100 --> Par\n",
            "28.- 20 --> Par\n",
            "29.- 63 --> Impar\n",
            "30.- 118 --> Par\n",
            "31.- 159 --> Impar\n",
            "32.- 149 --> Impar\n",
            "33.- 187 --> Impar\n",
            "34.- 30 --> Par\n",
            "35.- 31 --> Impar\n",
            "36.- 73 --> Impar\n",
            "37.- 199 --> Impar\n",
            "38.- 162 --> Par\n",
            "39.- 121 --> Impar\n",
            "40.- 94 --> Par\n",
            "\n",
            " > Cantidad de pares: 27\n",
            " > Cantidad de impares: 13\n",
            "\n",
            " > Sumatoria de pares: 1577\n",
            " > Sumatoria de impares: 2410\n"
          ]
        }
      ],
      "source": [
        "par = 0\n",
        "impar = 0\n",
        "sumap = 0\n",
        "sumai = 0\n",
        "\n",
        "for i in range(40):\n",
        "    num = random.randint(0,200)\n",
        "    print(f\"{i+1}.- {num} --> \", end=\"\")\n",
        "    if num%2 == 0:\n",
        "        par = par + 1\n",
        "        sumap = sumap + num\n",
        "        print(\"Par\")\n",
        "    else: \n",
        "        impar = impar + 1\n",
        "        sumai = sumai + num\n",
        "        print(\"Impar\")\n",
        "print(f\"\\n > Cantidad de pares: {par}\\n > Cantidad de impares: {impar}\")\n",
        "print(f\"\\n > Sumatoria de pares: {sumai}\\n > Sumatoria de impares: {sumap}\")"
      ]
    },
    {
      "cell_type": "markdown",
      "source": [
        "2.- Programa en Python que despliegue la tabla de multiplicar de un número dado (número entre el 1 y 20)."
      ],
      "metadata": {
        "id": "s1YshRBALyDU"
      }
    },
    {
      "cell_type": "code",
      "source": [
        "try:\n",
        "    num = int(input(\"Ingrese un número del 1 al 20 > \"))\n",
        "except:\n",
        "    print(\"Es necesario solo números. Vuelva a intentar.\")\n",
        "else: \n",
        "    for i in range(10):\n",
        "      print(f\" {i+1} x {num} = {(i+1)*num}\")"
      ],
      "metadata": {
        "colab": {
          "base_uri": "https://localhost:8080/"
        },
        "id": "yHtlIloRMJ13",
        "outputId": "c74ec7ce-4ab3-45ac-9bf9-0afac9523e7e"
      },
      "execution_count": null,
      "outputs": [
        {
          "output_type": "stream",
          "name": "stdout",
          "text": [
            "Ingrese un número del 1 al 20 > 4\n",
            " 1 x 4 = 4\n",
            " 2 x 4 = 8\n",
            " 3 x 4 = 12\n",
            " 4 x 4 = 16\n",
            " 5 x 4 = 20\n",
            " 6 x 4 = 24\n",
            " 7 x 4 = 28\n",
            " 8 x 4 = 32\n",
            " 9 x 4 = 36\n",
            " 10 x 4 = 40\n"
          ]
        }
      ]
    },
    {
      "cell_type": "markdown",
      "source": [
        "3.- Programa en Python que lea una calificación, las calificación deberá estar en el rango de 0 a 100, si hay un error de captura, mostrar mensaje de error. con la calificación correcta mostrar msg de aprobado reprobado. "
      ],
      "metadata": {
        "id": "PaoIG_uaO9BW"
      }
    },
    {
      "cell_type": "code",
      "source": [
        "try:\n",
        "    num = float(input(\"Ingrese su calificacion: \"))\n",
        "except:\n",
        "    print(\"Solo pueden ser capturadas en forma numerica.\")\n",
        "else:\n",
        "    if num >= 60:\n",
        "        print(\"\\n > Felicidades, aprobaste!!\")\n",
        "    else:\n",
        "        print(\"\\n > Lo sentimos, reprobaste :c\")\n"
      ],
      "metadata": {
        "colab": {
          "base_uri": "https://localhost:8080/"
        },
        "id": "UeLk2yp8PER9",
        "outputId": "5c62fd94-f1a6-4bc1-cd62-f9afe0407896"
      },
      "execution_count": null,
      "outputs": [
        {
          "output_type": "stream",
          "name": "stdout",
          "text": [
            "Ingrese su calificacion: 59.9\n",
            "\n",
            " > Lo sentimos, reprobaste :c\n"
          ]
        }
      ]
    },
    {
      "cell_type": "markdown",
      "source": [
        "4.- Programa en Python que lea n cantidad de números enteros dentro de un rango dado (> 0 ) , el programa deberá terminar cuando el usuario introduzca el número cero.\n",
        "\n",
        "desplegar la suma de números y la media."
      ],
      "metadata": {
        "id": "-UUAXGQeRIp0"
      }
    },
    {
      "cell_type": "code",
      "source": [
        "media = 0\n",
        "suman = 0\n",
        "n = 0\n",
        "\n",
        "print(\"Ingrese numeros entre el 1 y el 100, un 0 es para terminar: \\n\")\n",
        "while True:\n",
        "    try:\n",
        "        x = int(input(\"Ingresa un valor: \"))\n",
        "        suman = suman + x\n",
        "    except:\n",
        "        print(\"\\nLa indicacion era números entre el 1 y el 100, vuelve a intentar.\\n\")\n",
        "    else: \n",
        "        if x == 0:\n",
        "            print(\"\\nEl 0 no vale, es para salir >:) \\n\")\n",
        "            break; \n",
        "        media = (suman/2)\n",
        "print(\"------------------------------------\")\n",
        "print(f\"Suma: {suman}\\nMedia: {media}\")"
      ],
      "metadata": {
        "colab": {
          "base_uri": "https://localhost:8080/"
        },
        "id": "CaOUaxpSeWS-",
        "outputId": "f3417be5-b1c6-4168-c0fd-76b614e6c84e"
      },
      "execution_count": 2,
      "outputs": [
        {
          "output_type": "stream",
          "name": "stdout",
          "text": [
            "Ingrese numeros entre el 1 y el 100, un 0 es para terminar: \n",
            "\n",
            "Ingresa un valor: 1\n",
            "Ingresa un valor: 2\n",
            "Ingresa un valor: 3\n",
            "Ingresa un valor: 4\n",
            "Ingresa un valor: 5\n",
            "Ingresa un valor: 10\n",
            "Ingresa un valor: 20\n",
            "Ingresa un valor: 30\n",
            "Ingresa un valor: 40\n",
            "Ingresa un valor: 0\n",
            "\n",
            "El 0 no vale, es para salir >:) \n",
            "\n",
            "------------------------------------\n",
            "Suma: 115\n",
            "Media: 57.5\n"
          ]
        }
      ]
    },
    {
      "cell_type": "markdown",
      "source": [
        "5.- Programa en Python que sirva para leer el promedio de una materia. donde el usuario tendrá un máximo de 3 oportunidades de cursar la materia, si el promedio es aprobado, felicitarlo y continuar el siguiente semestre, si promedio es reprobado deberá salir mensaje de repetir materia o es baja académica si ha reprobado 3 veces. "
      ],
      "metadata": {
        "id": "uu9iuJO73LrE"
      }
    },
    {
      "cell_type": "code",
      "source": [
        "opor = 0\n",
        "while True:\n",
        "    try:\n",
        "        prom = float(input(\"Ingrese su calificación de la materia: \"))\n",
        "    except:\n",
        "        print(\"Calificaciones en numeros, no en letras...\")\n",
        "    else:\n",
        "        if prom >= 60:\n",
        "            print(\"Felicidades, a continuar sufriendo el semestre pasado\")\n",
        "            break\n",
        "        else:\n",
        "          opor = opor + 1\n",
        "          print(f\"\\n > Lo siento reprobaste. \", end=\"\")\n",
        "          if opor < 3:\n",
        "              print(\"Tienes que recursar la materia.\\n\")\n",
        "          else:\n",
        "              print(\"Baja académica automatica.\")\n",
        "              break"
      ],
      "metadata": {
        "colab": {
          "base_uri": "https://localhost:8080/"
        },
        "id": "aGvELlqT3N-U",
        "outputId": "26957f2f-e958-44d4-90b3-9806e11da612"
      },
      "execution_count": 2,
      "outputs": [
        {
          "output_type": "stream",
          "name": "stdout",
          "text": [
            "Ingrese su calificación de la materia: 30\n",
            "\n",
            " > Lo siento reprobaste. Tienes que recursar la materia.\n",
            "\n",
            "Ingrese su calificación de la materia: 23\n",
            "\n",
            " > Lo siento reprobaste. Tienes que recursar la materia.\n",
            "\n",
            "Ingrese su calificación de la materia: 23\n",
            "\n",
            " > Lo siento reprobaste. Baja académica automatica.\n"
          ]
        }
      ]
    },
    {
      "cell_type": "markdown",
      "source": [
        "#PARTE 2: \n",
        "\n",
        "1.- función que lea n cantidad de números hasta que el usuario lo desee, desplegar la suma de los números, media y valor de los números mayores y menores."
      ],
      "metadata": {
        "id": "WO978iDiZ6ga"
      }
    },
    {
      "cell_type": "code",
      "source": [
        "    def GenNumMedia():\n",
        "        media = 0\n",
        "        suman = 0\n",
        "        menor = 999999\n",
        "        mayor = 0\n",
        "        n = 0\n",
        "        print(\"Ingrese numeros, un 0 es para terminar: \\n\")\n",
        "        while True:\n",
        "            try:\n",
        "                x = int(input(\"Ingresa un valor: \"))\n",
        "                suman = suman + x\n",
        "            except:\n",
        "                print(\"No se aceptan caracteres, solo números.\")\n",
        "            else: \n",
        "                if x == 0:\n",
        "                    print(\"\\nEl 0 no vale, es para salir >:) \\n\")\n",
        "                    break;\n",
        "                if x >= mayor:\n",
        "                    mayor = x\n",
        "                if x <= menor:\n",
        "                    menor = x  \n",
        "        media = (suman/2)\n",
        "        print(\"------------------------------------\")\n",
        "        print(f\"Suma: {suman} \\nMenor: {menor} \\nMayor: {mayor} \\nMedia: {media}\")\n",
        "\n",
        "GenNumMedia()"
      ],
      "metadata": {
        "colab": {
          "base_uri": "https://localhost:8080/"
        },
        "id": "KhGs39-XaP82",
        "outputId": "c4770c34-ebeb-4bb5-dd75-f9b615b36f30"
      },
      "execution_count": 6,
      "outputs": [
        {
          "output_type": "stream",
          "name": "stdout",
          "text": [
            "Ingrese numeros, un 0 es para terminar: \n",
            "\n",
            "Ingresa un valor: 100\n",
            "Ingresa un valor: 20\n",
            "Ingresa un valor: 30\n",
            "Ingresa un valor: 40\n",
            "Ingresa un valor: 55\n",
            "Ingresa un valor: 4\n",
            "Ingresa un valor: 5\n",
            "Ingresa un valor: 6\n",
            "Ingresa un valor: 2\n",
            "Ingresa un valor: 00\n",
            "\n",
            "El 0 no vale, es para salir >:) \n",
            "\n",
            "------------------------------------\n",
            "Suma: 262 \n",
            "Menor: 2 \n",
            "Mayor: 100 \n",
            "Media: 131.0\n"
          ]
        }
      ]
    },
    {
      "cell_type": "markdown",
      "source": [
        "2.- función que genere 15 números impares entre 10 y 60 o máximo de 25 números. desplegar la media de los pares y media de impares."
      ],
      "metadata": {
        "id": "6jWT1gY5ciE0"
      }
    },
    {
      "cell_type": "code",
      "source": [
        "    def generaImpar(r=25, ri=10, rf=60):\n",
        "\n",
        "        par = 0\n",
        "        impar = 0\n",
        "        pars = 0\n",
        "        impars = 0\n",
        "\n",
        "        for i in range(r):\n",
        "            x = random.randint(ri,rf)\n",
        "            print(i+1, \".- \", end=\"\")\n",
        "            print(x, end=\"\")\n",
        "            if x%2 == 0:\n",
        "              print(\" > PAR\")\n",
        "              par = par + 1\n",
        "              pars = pars + x\n",
        "            else:\n",
        "                print(\" > IMPAR\")\n",
        "                impar = impar + 1\n",
        "                impars = impars + x\n",
        "                if impar == 15:\n",
        "                    print(\"\\n > Se generaron 15 numeros impares, el programa se detuvo.\")\n",
        "                    break;\n",
        "        print(\"------------------------------------\")\n",
        "        print(f\"> Par: {par} Media: {pars/par}\\n> Impar: {impar} Media: {impars/impar}\\n\")\n",
        "\n",
        "generaImpar()"
      ],
      "metadata": {
        "colab": {
          "base_uri": "https://localhost:8080/"
        },
        "id": "69WMNnqRcslN",
        "outputId": "731ac983-c44a-44c6-98cd-34cb43c3545e"
      },
      "execution_count": 11,
      "outputs": [
        {
          "output_type": "stream",
          "name": "stdout",
          "text": [
            "1 .- 15 > IMPAR\n",
            "2 .- 10 > PAR\n",
            "3 .- 35 > IMPAR\n",
            "4 .- 45 > IMPAR\n",
            "5 .- 24 > PAR\n",
            "6 .- 41 > IMPAR\n",
            "7 .- 35 > IMPAR\n",
            "8 .- 45 > IMPAR\n",
            "9 .- 42 > PAR\n",
            "10 .- 17 > IMPAR\n",
            "11 .- 41 > IMPAR\n",
            "12 .- 48 > PAR\n",
            "13 .- 39 > IMPAR\n",
            "14 .- 37 > IMPAR\n",
            "15 .- 54 > PAR\n",
            "16 .- 38 > PAR\n",
            "17 .- 30 > PAR\n",
            "18 .- 58 > PAR\n",
            "19 .- 59 > IMPAR\n",
            "20 .- 57 > IMPAR\n",
            "21 .- 50 > PAR\n",
            "22 .- 29 > IMPAR\n",
            "23 .- 17 > IMPAR\n",
            "24 .- 12 > PAR\n",
            "25 .- 31 > IMPAR\n",
            "\n",
            " > Se generaron 15 numeros impares, el programa se detuvo.\n",
            "------------------------------------\n",
            "> Par: 10 Media: 36.6\n",
            "> Impar: 15 Media: 36.2\n",
            "\n"
          ]
        }
      ]
    },
    {
      "cell_type": "markdown",
      "source": [
        "3.- función que sirva para leer y validar un número dentro de un rango dado por el usuario. repetir esta acción hasta que el usuario lo desee, desplegar cantidad de números y promedio de los números.."
      ],
      "metadata": {
        "id": "0S0nVZQ2ePHX"
      }
    },
    {
      "cell_type": "code",
      "source": [
        "    def ValidaNum (ri, rf, y, sum): \n",
        "        while True:\n",
        "            \n",
        "            try:\n",
        "                x = int(input(\"Respuesta: \")) \n",
        "                if x >= ri and x <= rf:\n",
        "                    sum = sum+1\n",
        "                    y = y + x   \n",
        "                elif x == 0:\n",
        "                    prom = y/sum\n",
        "                    return prom, sum\n",
        "                elif x < ri or x > rf:\n",
        "                    print(f\"El numero {x} no se encuentra entre el rango, vuelve a intentar. \")\n",
        "            except:\n",
        "                print(\"No se pueden letras, solo numeros. Vuelve a intentar.\")\n",
        "                                \n",
        "\n",
        "        print(ri)\n",
        "        print(rf)\n",
        "        print(f\"Sumatoria: {y}\")\n",
        "        print(f\"Cantidad: {sum}\")\n",
        "\n",
        "\n",
        "ri = int(input(\"Valor de rango inferior: \"))\n",
        "rf = int(input(\"Valor de rango superior: \"))\n",
        "y = 0\n",
        "sum = 0\n",
        "prom, sum = ValidaNum(ri, rf, y, sum)\n",
        "print(f\"El total de numeros sumados fue {sum} con promerio de {prom}.\")"
      ],
      "metadata": {
        "colab": {
          "base_uri": "https://localhost:8080/"
        },
        "id": "ntIMG0vteRcs",
        "outputId": "b9c7d367-95ff-4144-b4e1-1b32be20207a"
      },
      "execution_count": 14,
      "outputs": [
        {
          "output_type": "stream",
          "name": "stdout",
          "text": [
            "Valor de rango inferior: 1\n",
            "Valor de rango superior: 100\n",
            "Respuesta: 1\n",
            "Respuesta: 2\n",
            "Respuesta: 3\n",
            "Respuesta: 4\n",
            "Respuesta: 5\n",
            "Respuesta: 1\n",
            "Respuesta: 12\n",
            "Respuesta: 13\n",
            "Respuesta: 14\n",
            "Respuesta: 15\n",
            "Respuesta: 0\n",
            "El total de numeros sumados fue 10 con promerio de 7.0.\n"
          ]
        }
      ]
    },
    {
      "cell_type": "markdown",
      "source": [
        "4.- función que reciba como parámetro los valores para el área de un triángulo y retorne su resultado"
      ],
      "metadata": {
        "id": "eBES1qsqh6qu"
      }
    },
    {
      "cell_type": "code",
      "source": [
        "    def triangulo_area(a, b):\n",
        "        area = a * b / 2\n",
        "        return area\n",
        "\n",
        "try:\n",
        "  b = float(input(\"Ingrese la longitud de la base (cm): \"))\n",
        "  a = float(input(\"Ingrese la longitud de la altura (cm): \"))\n",
        "except:\n",
        "  print(\"Los datos se capturan numericamente.\")\n",
        "else:\n",
        "  area = triangulo_area(a, b)\n",
        "  print(f\"El area del triangulo es de {area} cm^2\")"
      ],
      "metadata": {
        "colab": {
          "base_uri": "https://localhost:8080/"
        },
        "id": "kqAYSYWiiiSy",
        "outputId": "44a2e28d-9b9c-465e-e4c5-080764f9f239"
      },
      "execution_count": 18,
      "outputs": [
        {
          "output_type": "stream",
          "name": "stdout",
          "text": [
            "Ingrese la longitud de la base (cm): 10\n",
            "Ingrese la longitud de la altura (cm): 12\n",
            "El area del triangulo es de 60.0 cm^2\n"
          ]
        }
      ]
    },
    {
      "cell_type": "markdown",
      "source": [
        "5.- función que sirva para validar un número dentro de un rango dado."
      ],
      "metadata": {
        "id": "e_-ELhngkLfU"
      }
    },
    {
      "cell_type": "code",
      "source": [
        "  def Valida_mesta(ri,rf):\n",
        "    while True:\n",
        "      try:\n",
        "        x = int(input(\"\\nIngrese el dato a validar: \"))\n",
        "      except:\n",
        "        print(\"\\nEl dato a validar solo sera aceptado si es un número.\")\n",
        "      else:\n",
        "        if x >= ri and x <= rf:\n",
        "          print(\"\\nEl número es valido.\")\n",
        "          return x\n",
        "        else:                \n",
        "          print(\"\\nEl número NO es valido, vuelva a intentar.\")\n",
        "\n",
        "while True:\n",
        "    ri = int(input(\"Valor de rango inferior: \"))\n",
        "    rf = int(input(\"Valor de rango superior: \"))\n",
        "    print(\"#-------------------------------#\")\n",
        "    if ri >= rf:\n",
        "      print(\"El orden de los rangos no esta bien, vuelvelos a ingresar.\")\n",
        "    else:\n",
        "      num = Valida_mesta(ri,rf)\n",
        "      print(f\"\\n > El número validado es {num}.\")\n",
        "      break"
      ],
      "metadata": {
        "colab": {
          "base_uri": "https://localhost:8080/"
        },
        "id": "zRWYuhz4kK14",
        "outputId": "5b7721a9-82ea-4d76-9989-f2f71e671b8d"
      },
      "execution_count": 9,
      "outputs": [
        {
          "output_type": "stream",
          "name": "stdout",
          "text": [
            "Valor de rango inferior: 1\n",
            "Valor de rango superior: 10\n",
            "#-------------------------------#\n",
            "\n",
            "Ingrese el dato a validar: 15\n",
            "\n",
            "El número NO es valido, vuelva a intentar.\n",
            "\n",
            "Ingrese el dato a validar: cinco\n",
            "\n",
            "El dato a validar solo sera aceptado si es un número.\n",
            "\n",
            "Ingrese el dato a validar: 5\n",
            "\n",
            "El número es valido.\n",
            "\n",
            " > El número validado es 5.\n"
          ]
        }
      ]
    }
  ]
}