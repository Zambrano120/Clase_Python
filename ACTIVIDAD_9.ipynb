{
  "nbformat": 4,
  "nbformat_minor": 0,
  "metadata": {
    "colab": {
      "provenance": [],
      "authorship_tag": "ABX9TyOVi1zcKQEqKG8zeOdLu9rv",
      "include_colab_link": true
    },
    "kernelspec": {
      "name": "python3",
      "display_name": "Python 3"
    },
    "language_info": {
      "name": "python"
    }
  },
  "cells": [
    {
      "cell_type": "markdown",
      "metadata": {
        "id": "view-in-github",
        "colab_type": "text"
      },
      "source": [
        "<a href=\"https://colab.research.google.com/github/Zambrano120/Clase_Python/blob/main/ACTIVIDAD_9.ipynb\" target=\"_parent\"><img src=\"https://colab.research.google.com/assets/colab-badge.svg\" alt=\"Open In Colab\"/></a>"
      ]
    },
    {
      "cell_type": "code",
      "source": [
        "import random\n",
        "from time import sleep\n",
        "from pickle import TRUE\n",
        "from IPython.display import clear_output\n",
        "\n",
        "#Funcion valida_num que valida un numero dentro de un rango dado\n",
        "def Valida_mesta(ri,rf,mnge):\n",
        "    while True:\n",
        "      try:\n",
        "        x = int(input(mnge))\n",
        "        if x == 0:\n",
        "            print(\"El 0 es invalido, es para salir del programa.\")\n",
        "            sleep(3)\n",
        "            return x\n",
        "      except:\n",
        "        print(\"\\nEl dato solo sera aceptado si es un número.\")\n",
        "      else:\n",
        "        if x >= ri and x <= rf:\n",
        "          return x\n",
        "        else:                \n",
        "          print(\"El número NO es valido, vuelva a intentar.\")\n",
        "          sleep(1)\n",
        "\n",
        "#------------------------------------------------------------------------------#\n"
      ],
      "metadata": {
        "id": "8QkI03AwN6xN"
      },
      "execution_count": 3,
      "outputs": []
    },
    {
      "cell_type": "markdown",
      "source": [
        "CREAR DICCIIONARIO: funcion que retorne un diccionario con los datos de basicos de un alumno, donde se pide {id,nombre (1 O 2) , appaterno,apmaterno, edad,sexo}, El diccionario se debe generar automaticmanete a partir de listas."
      ],
      "metadata": {
        "id": "6N1q3hg5OrvP"
      }
    },
    {
      "cell_type": "code",
      "source": [
        "def gen_dicc():\n",
        "  #GENERO\n",
        "  Genero = [\"Masculino\", \"Femenino\"]\n",
        "  #NOMBRES\n",
        "  NombreH = [\"Ricardo\", \"Luis\", \"Mauricio\", \"Marcos\", \"Oscar\", \"Alfredo\", \"Francisco\", \"Ruben\", \"Kevin\", \"Manuel\"]\n",
        "  NombreM = [\"Harumi\", \"Samanta\", \"Sandra\", \"Laura\", \"Melissa\", \"Rosa\", \"Aurora\", \"Nayeli\", \"Gabriela\", \"Daniela\"]\n",
        "  #APELLIDOS\n",
        "  ApPat = [\"Zambrano\", \"Leon\", \"Martinez\", \"Cordova\", \"Espinoza\", \"Esperanza\", \"Cortez\", \"Sanchez\"]\n",
        "  ApMat = [\"Cital\", \"Leon\", \"Martinez\", \"Cordova\", \"Espinoza\", \"Esperanza\", \"Cortez\", \"Sanchez\"]\n",
        "  #DICCIONARIO\n",
        "  diccionario = {\"ID\":[], \"Nombre\": [], \"ApPat\":[], \"ApMat\": [], \"Edad\": [], \"Sexo\": []}\n",
        "  #RELLENAR DICCIONARIO POR METODO RANDOM\n",
        "  diccionario[\"ID\"] = random.randint(300000,400000)\n",
        "  diccionario[\"Sexo\"] = random.choice(Genero)\n",
        "  if diccionario[\"Sexo\"] == \"Masculino\":\n",
        "    diccionario[\"Nombre\"] = random.choice(NombreH)\n",
        "  else:\n",
        "    diccionario[\"Nombre\"] = random.choice(NombreH)\n",
        "  diccionario[\"ApPat\"] = random.choice(ApPat)\n",
        "  diccionario[\"ApMat\"] = random.choice(ApMat) \n",
        "  diccionario[\"Edad\"] = random.randint(18,45)\n",
        "\n",
        "  clear_output()\n",
        "  print(\"Se a generado un diccionario\")\n",
        "  return diccionario"
      ],
      "metadata": {
        "id": "FzJlVbhMOvqu"
      },
      "execution_count": 9,
      "outputs": []
    },
    {
      "cell_type": "markdown",
      "source": [
        "\n",
        "IMPRIMIR DICCIONARIO:  Funcion que reciba como parametro el diccionario, y le de una salida mostrando la informacion en forma de registro que se genero con el diccionario "
      ],
      "metadata": {
        "id": "RG2jsIwGOup5"
      }
    },
    {
      "cell_type": "code",
      "source": [
        "def imprime_dicc(diccionario):\n",
        "    clear_output()\n",
        "    print(\"Seleccionaste \"\"Imprimir diccionario\")\n",
        "    print(\"#---------------------------------------------------#\")\n",
        "    for key in diccionario:\n",
        "      print (key, \":\", diccionario[key])"
      ],
      "metadata": {
        "id": "idJp7rlAQ727"
      },
      "execution_count": 7,
      "outputs": []
    },
    {
      "cell_type": "markdown",
      "source": [
        "Realiza un programa en python que utilice el siguiente menu: \n",
        "\n",
        " MENU\n",
        "\n",
        " 1.- Crear Diccionario\n",
        "\n",
        " 2.- Imprimir Diccionario \n",
        "\n",
        " 0.- Salir\n",
        "\n",
        "\n",
        "\n",
        "\n",
        "\n",
        "\n"
      ],
      "metadata": {
        "id": "ixv-V9Z-MyNg"
      }
    },
    {
      "cell_type": "code",
      "execution_count": 8,
      "metadata": {
        "id": "u1z5XfuhT0_b",
        "colab": {
          "base_uri": "https://localhost:8080/"
        },
        "outputId": "6aac6a2c-5ee1-48cf-9616-01d5c42d99fb"
      },
      "outputs": [
        {
          "output_type": "stream",
          "name": "stdout",
          "text": [
            "Seleccionaste Imprimir diccionario\n",
            "#---------------------------------------------------#\n",
            "ID : 394026\n",
            "Nombre : Kevin\n",
            "ApPat : Esperanza\n",
            "ApMat : Cordova\n",
            "Edad : 33\n",
            "Sexo : Masculino\n",
            "#---------------------------------------------------#\n",
            "\t\t\t  MENU\n",
            "1.- Crear Diccionario\n",
            "2.- Imprimir diccionario\n",
            "0.- Salir\n",
            "#---------------------------------------------------#\n",
            "Que opcion eliges? > 0\n",
            "El 0 es invalido, es para salir del programa.\n",
            " SALE VALE! \n"
          ]
        }
      ],
      "source": [
        "while True:\n",
        "  print(\"#---------------------------------------------------#\")\n",
        "  print(\"\\t\\t\\t  MENU\")\n",
        "  print(\"1.- Crear Diccionario\")\n",
        "  print(\"2.- Imprimir diccionario\")\n",
        "  print(\"0.- Salir\")\n",
        "  print(\"#---------------------------------------------------#\")\n",
        "  op = Valida_mesta(1,2,\"Que opcion eliges? > \")\n",
        "  if op == 1:\n",
        "    diccionario = gen_dicc()\n",
        "  elif op == 2:\n",
        "    imprime_dicc(diccionario)\n",
        "  elif op == 0:\n",
        "    print(\" SALE VALE! \")\n",
        "    break"
      ]
    }
  ]
}