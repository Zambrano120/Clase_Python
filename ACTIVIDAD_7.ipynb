{
  "nbformat": 4,
  "nbformat_minor": 0,
  "metadata": {
    "colab": {
      "provenance": [],
      "authorship_tag": "ABX9TyMM1vF00uRRTUTxzrRC13xs",
      "include_colab_link": true
    },
    "kernelspec": {
      "name": "python3",
      "display_name": "Python 3"
    },
    "language_info": {
      "name": "python"
    }
  },
  "cells": [
    {
      "cell_type": "markdown",
      "metadata": {
        "id": "view-in-github",
        "colab_type": "text"
      },
      "source": [
        "<a href=\"https://colab.research.google.com/github/Zambrano120/Clase_Python/blob/main/ACTIVIDAD_7.ipynb\" target=\"_parent\"><img src=\"https://colab.research.google.com/assets/colab-badge.svg\" alt=\"Open In Colab\"/></a>"
      ]
    },
    {
      "cell_type": "code",
      "source": [
        "import random\n",
        "from time import sleep\n",
        "from pickle import TRUE\n",
        "from IPython.display import clear_output\n",
        "\n",
        "#Funcion valida_num que valida un numero dentro de un rango dado\n",
        "def Valida_mesta(ri,rf,mnge):\n",
        "    while True:\n",
        "      try:\n",
        "        x = int(input(mnge))\n",
        "        if x == 0:\n",
        "            print(\"El 0 es invalido, es para salir del programa.\")\n",
        "            sleep(3)\n",
        "            return x\n",
        "      except:\n",
        "        print(\"\\nEl dato solo sera aceptado si es un número.\")\n",
        "      else:\n",
        "        if x >= ri and x <= rf:\n",
        "          return x\n",
        "        else:                \n",
        "          print(\"El número NO es valido, vuelva a intentar.\")\n",
        "          sleep(1)"
      ],
      "metadata": {
        "id": "fsDMFPT_WfQe"
      },
      "execution_count": 1,
      "outputs": []
    },
    {
      "cell_type": "markdown",
      "source": [
        "1.- Función que utilice una lista con los nombres de tus mascotas, o artistas favoritos, (minimo 5, maximo 10) imprimir las cadenas y la cantidad de caracteres de cada cadena.  "
      ],
      "metadata": {
        "id": "MfbqPDvp_V1f"
      }
    },
    {
      "cell_type": "code",
      "execution_count": null,
      "metadata": {
        "colab": {
          "base_uri": "https://localhost:8080/"
        },
        "id": "_vMRcINO-_3P",
        "outputId": "f01dd50e-52a1-457d-e3c7-bc63f8ec9d32"
      },
      "outputs": [
        {
          "output_type": "stream",
          "name": "stdout",
          "text": [
            "[0] Jessica --> 7 caracteres\n",
            "[1] Hayley --> 6 caracteres\n",
            "[2] Leonardo --> 8 caracteres\n",
            "[3] Kiara --> 5 caracteres\n",
            "[4] Canelita --> 8 caracteres\n",
            "[5] Karolina --> 8 caracteres\n",
            "[6] Karley --> 6 caracteres\n"
          ]
        }
      ],
      "source": [
        "def listas_nombres():\n",
        "\n",
        "    lista = []\n",
        "    lista.append(\"Jessica\")\n",
        "    lista.append(\"Hayley\")\n",
        "    lista.append(\"Leonardo\")\n",
        "    lista.append(\"Kiara\")\n",
        "    lista.append(\"Canelita\")\n",
        "    lista.append(\"Karolina\")\n",
        "    lista.append(\"Karley\")\n",
        "    \n",
        "    for i, lista in enumerate(lista):\n",
        "      print(f\"{[i]} {lista} --> {len(lista)} caracteres\")\n",
        "   \n",
        "listas_nombres()"
      ]
    },
    {
      "cell_type": "markdown",
      "source": [
        "2.- Programa que utilice 2 funciones, \n",
        "\n",
        "- Función que genere y regrese una lista con 10 números aleatorios entre el 30 y 50 (no repetidos). \n",
        "\n",
        "- Función que reciba una lista , Imprimir la lista (Indice y Valor )\n",
        "\n",
        "\n",
        " Mandar llamar la función e imprimir toda la lista. "
      ],
      "metadata": {
        "id": "W56wjpMjWED6"
      }
    },
    {
      "cell_type": "code",
      "source": [
        "#--------------------------------------------------#\n",
        "def random_lista():\n",
        "        lista = []\n",
        "        for i in range (10):\n",
        "            x = random.randint(30,50)\n",
        "            lista.append(x)\n",
        "        return lista\n",
        "#--------------------------------------------------#\n",
        "def imprimir_lista(lista):\n",
        "        for i, lista in enumerate(lista):\n",
        "            print(f\"{[i]} {lista}\")\n",
        "#--------------------------------------------------#\n",
        "lista = random_lista()\n",
        "imprimir_lista(lista)"
      ],
      "metadata": {
        "colab": {
          "base_uri": "https://localhost:8080/"
        },
        "id": "QsSo1DNIWSJ7",
        "outputId": "206c5b1f-ca9d-41cb-a61b-8dd7d8de68d6"
      },
      "execution_count": null,
      "outputs": [
        {
          "output_type": "stream",
          "name": "stdout",
          "text": [
            "[0] 35\n",
            "[1] 44\n",
            "[2] 50\n",
            "[3] 30\n",
            "[4] 31\n",
            "[5] 40\n",
            "[6] 41\n",
            "[7] 36\n",
            "[8] 30\n",
            "[9] 36\n"
          ]
        }
      ]
    },
    {
      "cell_type": "markdown",
      "source": [
        "3.- Escribe una función que reciba dos listas de números del mismo tamaño y calcule la suma de los elementos correspondientes de cada lista. (regresar una nueva lista) . Luego, muestra una lista con los resultados de cada suma. Nota: si las listas no son del mismo tamaño mandar msge y utilizar el tamaño de la lista mas pequeña)"
      ],
      "metadata": {
        "id": "qYI3ZynMbqkG"
      }
    },
    {
      "cell_type": "code",
      "source": [
        "def suma_listas(lista1,lista2):\n",
        "    \n",
        "    a = len(lista1)\n",
        "    b = len(lista2)\n",
        "    if a == b:\n",
        "      lista3 = []\n",
        "      for i, suma in enumerate(lista1):\n",
        "          x = lista1[i] + lista2[i]\n",
        "          lista3.append(x)\n",
        "      return lista3\n",
        "    else:\n",
        "      print(\"El tamaño de las listas no coinciden, utilize el adecuado.\")\n",
        "\n",
        "\n",
        "\n",
        "lista1 = [1,2,3,4,5]\n",
        "lista2 = [10,20,30,40,50]\n",
        "lista = suma_listas(lista1,lista2)\n",
        "imprimir_lista(lista)"
      ],
      "metadata": {
        "colab": {
          "base_uri": "https://localhost:8080/"
        },
        "id": "Gkfrj6hjbvJH",
        "outputId": "a88be61e-c266-470f-c558-53549d20a402"
      },
      "execution_count": null,
      "outputs": [
        {
          "output_type": "stream",
          "name": "stdout",
          "text": [
            "[0] 11\n",
            "[1] 22\n",
            "[2] 33\n",
            "[3] 44\n",
            "[4] 55\n"
          ]
        }
      ]
    },
    {
      "cell_type": "markdown",
      "source": [
        "4.- Escribe una función llamada eliminar_duplicados que reciba una lista como parámetro y elimine los elementos duplicados. El resultado debe ser una nueva lista sin duplicados. Pide al usuario que ingrese una lista y luego llama a la función eliminar_duplicados para mostrar la lista sin duplicados. (Solo Numeros enteros, validar)"
      ],
      "metadata": {
        "id": "8tsvamDNhQJR"
      }
    },
    {
      "cell_type": "code",
      "source": [
        "def eliminar_duplicados(lista):\n",
        "    lista_sd = set(lista)\n",
        "    return lista_sd\n",
        "\n",
        "lista = []\n",
        "while True:\n",
        "    x = input(Valida_mesta(1,10,\"Ingrese un valores repetidos entre 1 y 10, el 0 para terminar: \"))\n",
        "    if x == 0:\n",
        "      lista_sd = eliminar_duplicados(lista)\n",
        "      break\n",
        "    else:\n",
        "      lista.append(x)\n",
        "\n",
        "imprimir_lista(lista_sd)\n"
      ],
      "metadata": {
        "id": "VSn-nnVIhVYa"
      },
      "execution_count": null,
      "outputs": []
    },
    {
      "cell_type": "markdown",
      "source": [
        "5.- Escribe una función que calcule la media y la mediana de una lista de números enteros. \n",
        "\n",
        "La media es la suma de todos los elementos y dividido entre la cantidad de elementos\n",
        "\n",
        "La mediana es el valor que queda en la mitad de la lista cuando se ordena de forma ascendente. Si la lista tiene un número par de elementos, la mediana se calcula como el promedio de los dos valores centrales. Puedes utilizar el método sort() para ordenar la lista y luego calcular la mediana según el tamaño de la lista."
      ],
      "metadata": {
        "id": "NJWNiGbwsfGW"
      }
    },
    {
      "cell_type": "code",
      "source": [],
      "metadata": {
        "id": "ObRmoIBjsgIX"
      },
      "execution_count": null,
      "outputs": []
    }
  ]
}